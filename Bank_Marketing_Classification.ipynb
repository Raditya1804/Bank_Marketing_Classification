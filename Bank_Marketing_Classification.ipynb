{
 "cells": [
  {
   "cell_type": "markdown",
   "metadata": {},
   "source": [
    "# Bank Marketing Classification"
   ]
  },
  {
   "cell_type": "markdown",
   "metadata": {},
   "source": [
    "## Machine Learning - Supervised Learning"
   ]
  },
  {
   "cell_type": "markdown",
   "metadata": {},
   "source": [
    "Created by : Raditya Saputra"
   ]
  },
  {
   "cell_type": "markdown",
   "metadata": {},
   "source": [
    "# Informasi Dataset\n",
    "\n",
    "- Dataset ini terkait operasi pemasaran yang terhubung langsung dengan lembaga perbankan Portugis.\n",
    "- Operasi pemasaran didasarkan pada panggilan telpon.\n",
    "- Diperlukan lebih dari satu kontak klien yang sama.\n",
    "- Untuk mengetahui apakah akan berlangganan (deposito jangka panjang) ya/tidak.\n",
    "- Bank-additional-full.csv mempunyai baris 41188 and 20 kolum/input yang diurutkan berdasarkan tanggal (dari May 2008 sampai November 2010)\n",
    "- Tujuan dataset ini digunakan adalah untuk menentukan apakah klien akan berlangganan ya/tidak pada deposito berjangka.\n",
    "-       * NB : Deposito adalah uang yang disimpan dalam rekening. Deposito biasanya memiliki jangka waktu tertentu yang mana uang di dalamnya tidak boleh ditarik nasabah. Deposito baru bisa dicairkan sesuai dengan tanggal jatuh temponya, biasanya deposito mempunyai jatuh tempo 1, 3, 6, atau 12 bulan."
   ]
  },
  {
   "cell_type": "markdown",
   "metadata": {},
   "source": [
    "# Import Library"
   ]
  },
  {
   "cell_type": "code",
   "execution_count": 1,
   "metadata": {},
   "outputs": [],
   "source": [
    "import pandas as pd\n",
    "import numpy as np\n",
    "\n",
    "import matplotlib.pyplot as plt\n",
    "import seaborn as sns\n",
    "\n",
    "from sklearn.linear_model import LogisticRegression\n",
    "from sklearn.svm import SVC\n",
    "from sklearn.tree import DecisionTreeClassifier\n",
    "from sklearn.naive_bayes import GaussianNB\n",
    "from sklearn.ensemble import RandomForestClassifier\n",
    "from sklearn.neighbors import KNeighborsClassifier\n",
    "from sklearn.model_selection import train_test_split, cross_val_score, GridSearchCV\n",
    "from sklearn.pipeline import Pipeline\n",
    "from sklearn.metrics import accuracy_score, classification_report, confusion_matrix\n",
    "from sklearn.preprocessing import LabelEncoder, OneHotEncoder, StandardScaler\n",
    "from sklearn.base import BaseEstimator, TransformerMixin\n",
    "from sklearn.pipeline import FeatureUnion\n",
    "\n",
    "import time\n",
    "import warnings\n",
    "warnings.simplefilter(action='ignore')"
   ]
  },
  {
   "cell_type": "code",
   "execution_count": 2,
   "metadata": {},
   "outputs": [],
   "source": [
    "df = pd.read_csv('bank-additional-full.csv', encoding='latin1', na_values='n/a', sep=None, thousands=',')\n",
    "pd.set_option('display.max_columns', None)"
   ]
  },
  {
   "cell_type": "markdown",
   "metadata": {},
   "source": [
    "# Gambaran sekilas Dataset"
   ]
  },
  {
   "cell_type": "code",
   "execution_count": 3,
   "metadata": {},
   "outputs": [
    {
     "data": {
      "text/html": [
       "<div>\n",
       "<style scoped>\n",
       "    .dataframe tbody tr th:only-of-type {\n",
       "        vertical-align: middle;\n",
       "    }\n",
       "\n",
       "    .dataframe tbody tr th {\n",
       "        vertical-align: top;\n",
       "    }\n",
       "\n",
       "    .dataframe thead th {\n",
       "        text-align: right;\n",
       "    }\n",
       "</style>\n",
       "<table border=\"1\" class=\"dataframe\">\n",
       "  <thead>\n",
       "    <tr style=\"text-align: right;\">\n",
       "      <th></th>\n",
       "      <th>age</th>\n",
       "      <th>job</th>\n",
       "      <th>marital</th>\n",
       "      <th>education</th>\n",
       "      <th>default</th>\n",
       "      <th>housing</th>\n",
       "      <th>loan</th>\n",
       "      <th>contact</th>\n",
       "      <th>month</th>\n",
       "      <th>day_of_week</th>\n",
       "      <th>duration</th>\n",
       "      <th>campaign</th>\n",
       "      <th>pdays</th>\n",
       "      <th>previous</th>\n",
       "      <th>poutcome</th>\n",
       "      <th>emp.var.rate</th>\n",
       "      <th>cons.price.idx</th>\n",
       "      <th>cons.conf.idx</th>\n",
       "      <th>euribor3m</th>\n",
       "      <th>nr.employed</th>\n",
       "      <th>y</th>\n",
       "    </tr>\n",
       "  </thead>\n",
       "  <tbody>\n",
       "    <tr>\n",
       "      <th>0</th>\n",
       "      <td>56</td>\n",
       "      <td>housemaid</td>\n",
       "      <td>married</td>\n",
       "      <td>basic.4y</td>\n",
       "      <td>no</td>\n",
       "      <td>no</td>\n",
       "      <td>no</td>\n",
       "      <td>telephone</td>\n",
       "      <td>may</td>\n",
       "      <td>mon</td>\n",
       "      <td>261</td>\n",
       "      <td>1</td>\n",
       "      <td>999</td>\n",
       "      <td>0</td>\n",
       "      <td>nonexistent</td>\n",
       "      <td>1.1</td>\n",
       "      <td>93.994</td>\n",
       "      <td>-36.4</td>\n",
       "      <td>4.857</td>\n",
       "      <td>5191.0</td>\n",
       "      <td>no</td>\n",
       "    </tr>\n",
       "    <tr>\n",
       "      <th>1</th>\n",
       "      <td>57</td>\n",
       "      <td>services</td>\n",
       "      <td>married</td>\n",
       "      <td>high.school</td>\n",
       "      <td>unknown</td>\n",
       "      <td>no</td>\n",
       "      <td>no</td>\n",
       "      <td>telephone</td>\n",
       "      <td>may</td>\n",
       "      <td>mon</td>\n",
       "      <td>149</td>\n",
       "      <td>1</td>\n",
       "      <td>999</td>\n",
       "      <td>0</td>\n",
       "      <td>nonexistent</td>\n",
       "      <td>1.1</td>\n",
       "      <td>93.994</td>\n",
       "      <td>-36.4</td>\n",
       "      <td>4.857</td>\n",
       "      <td>5191.0</td>\n",
       "      <td>no</td>\n",
       "    </tr>\n",
       "    <tr>\n",
       "      <th>2</th>\n",
       "      <td>37</td>\n",
       "      <td>services</td>\n",
       "      <td>married</td>\n",
       "      <td>high.school</td>\n",
       "      <td>no</td>\n",
       "      <td>yes</td>\n",
       "      <td>no</td>\n",
       "      <td>telephone</td>\n",
       "      <td>may</td>\n",
       "      <td>mon</td>\n",
       "      <td>226</td>\n",
       "      <td>1</td>\n",
       "      <td>999</td>\n",
       "      <td>0</td>\n",
       "      <td>nonexistent</td>\n",
       "      <td>1.1</td>\n",
       "      <td>93.994</td>\n",
       "      <td>-36.4</td>\n",
       "      <td>4.857</td>\n",
       "      <td>5191.0</td>\n",
       "      <td>no</td>\n",
       "    </tr>\n",
       "    <tr>\n",
       "      <th>3</th>\n",
       "      <td>40</td>\n",
       "      <td>admin.</td>\n",
       "      <td>married</td>\n",
       "      <td>basic.6y</td>\n",
       "      <td>no</td>\n",
       "      <td>no</td>\n",
       "      <td>no</td>\n",
       "      <td>telephone</td>\n",
       "      <td>may</td>\n",
       "      <td>mon</td>\n",
       "      <td>151</td>\n",
       "      <td>1</td>\n",
       "      <td>999</td>\n",
       "      <td>0</td>\n",
       "      <td>nonexistent</td>\n",
       "      <td>1.1</td>\n",
       "      <td>93.994</td>\n",
       "      <td>-36.4</td>\n",
       "      <td>4.857</td>\n",
       "      <td>5191.0</td>\n",
       "      <td>no</td>\n",
       "    </tr>\n",
       "    <tr>\n",
       "      <th>4</th>\n",
       "      <td>56</td>\n",
       "      <td>services</td>\n",
       "      <td>married</td>\n",
       "      <td>high.school</td>\n",
       "      <td>no</td>\n",
       "      <td>no</td>\n",
       "      <td>yes</td>\n",
       "      <td>telephone</td>\n",
       "      <td>may</td>\n",
       "      <td>mon</td>\n",
       "      <td>307</td>\n",
       "      <td>1</td>\n",
       "      <td>999</td>\n",
       "      <td>0</td>\n",
       "      <td>nonexistent</td>\n",
       "      <td>1.1</td>\n",
       "      <td>93.994</td>\n",
       "      <td>-36.4</td>\n",
       "      <td>4.857</td>\n",
       "      <td>5191.0</td>\n",
       "      <td>no</td>\n",
       "    </tr>\n",
       "  </tbody>\n",
       "</table>\n",
       "</div>"
      ],
      "text/plain": [
       "   age        job  marital    education  default housing loan    contact  \\\n",
       "0   56  housemaid  married     basic.4y       no      no   no  telephone   \n",
       "1   57   services  married  high.school  unknown      no   no  telephone   \n",
       "2   37   services  married  high.school       no     yes   no  telephone   \n",
       "3   40     admin.  married     basic.6y       no      no   no  telephone   \n",
       "4   56   services  married  high.school       no      no  yes  telephone   \n",
       "\n",
       "  month day_of_week  duration  campaign  pdays  previous     poutcome  \\\n",
       "0   may         mon       261         1    999         0  nonexistent   \n",
       "1   may         mon       149         1    999         0  nonexistent   \n",
       "2   may         mon       226         1    999         0  nonexistent   \n",
       "3   may         mon       151         1    999         0  nonexistent   \n",
       "4   may         mon       307         1    999         0  nonexistent   \n",
       "\n",
       "   emp.var.rate  cons.price.idx  cons.conf.idx  euribor3m  nr.employed   y  \n",
       "0           1.1          93.994          -36.4      4.857       5191.0  no  \n",
       "1           1.1          93.994          -36.4      4.857       5191.0  no  \n",
       "2           1.1          93.994          -36.4      4.857       5191.0  no  \n",
       "3           1.1          93.994          -36.4      4.857       5191.0  no  \n",
       "4           1.1          93.994          -36.4      4.857       5191.0  no  "
      ]
     },
     "execution_count": 3,
     "metadata": {},
     "output_type": "execute_result"
    }
   ],
   "source": [
    "df.head()"
   ]
  },
  {
   "cell_type": "markdown",
   "metadata": {},
   "source": [
    "# Informasi Atribut\n",
    "\n",
    "# A. Input variables:\n",
    "# Data Klien Bank:\n",
    "1. age/umur (numeric)\n",
    "2. job/pekerjaan : type of job (categorical: 'admin.','blue-collar','entrepreneur','housemaid','management','retired','self-employed','services','student','technician','unemployed','unknown')\n",
    "3. marital/status perkawinan : marital status (categorical: 'divorced','married','single','unknown'; note: 'divorced' means divorced or widowed)\n",
    "4. education/pendidikan (categorical: 'basic.4y','basic.6y','basic.9y','high.school','illiterate','professional.course','university.degree','unknown')\n",
    "5. default: has credit in default?/mempunyai kredit (categorical: 'no','yes','unknown')\n",
    "6. housing: has housing loan?/memiliki pinjaman perumahan (categorical: 'no','yes','unknown')\n",
    "7. loan: has personal loan?/memiliki utang (categorical: 'no','yes','unknown')"
   ]
  },
  {
   "cell_type": "markdown",
   "metadata": {},
   "source": [
    "# Hubungan Kontak terakhir saat ini :\n",
    "8. contact/panggilan: contact communication type (categorical: 'cellular','telephone')\n",
    "9. month/bulan: last contact month of year (categorical: 'jan', 'feb', 'mar', ..., 'nov', 'dec')\n",
    "10. day_of_week/kontak terakhir hari dalam seminggu: last contact day of the week (categorical: 'mon','tue','wed','thu','fri')\n",
    "11. duration/durasi kontak terakhir: last contact duration, in seconds (numeric). Important note: this attribute highly affects the output target (e.g., if duration=0 then y='no'). Yet, the duration is not known before a call is performed. Also, after the end of the call y is obviously known. Thus, this input should only be included for benchmark purposes and should be discarded if the intention is to have a realistic predictive model."
   ]
  },
  {
   "cell_type": "markdown",
   "metadata": {},
   "source": [
    "# Attributes Lainnya:\n",
    "12. campaign/jumlah kontak selama operasi: number of contacts performed during this campaign and for this client (numeric, includes last contact)\n",
    "13. pdays/jumlah hari yang lewat setelah klien terakhir dihubungi dari operasi sebelumnya: number of days that passed by after the client was last contacted from a previous campaign (numeric; 999 means client was not previously contacted/tidak dihubungi sebelumnya)\n",
    "14. previous: number of contacts performed before this campaign and for this client (numeric)\n",
    "15. poutcome/hasil dari operasi sebelumnya: outcome of the previous marketing campaign (categorical: 'failure','nonexistent','success')"
   ]
  },
  {
   "cell_type": "markdown",
   "metadata": {},
   "source": [
    "# Attribut Sosial dan Ekonomi :\n",
    "16. emp.var.rate: tingkat variasi pekerjaan - indikator triwulanan (numerik)\n",
    "17. cons.price.idx: indeks harga konsumen - indikator bulanan (numerik)\n",
    "18. cons.conf.idx: indeks kepercayaan konsumen - indikator bulanan (numerik)\n",
    "19. euribor3m: tarif euribor 3 bulan - indikator harian (numerik)\n",
    "20. nr.employed: jumlah karyawan - indikator triwulanan (numerik)"
   ]
  },
  {
   "cell_type": "markdown",
   "metadata": {},
   "source": [
    "# B. Output variable (Target yang diinginkan):\n",
    "21. y - has the client subscribed a term deposit? (binary: 'yes','no')"
   ]
  },
  {
   "cell_type": "markdown",
   "metadata": {},
   "source": [
    "# Exploratory Data Analysis"
   ]
  },
  {
   "cell_type": "code",
   "execution_count": 4,
   "metadata": {},
   "outputs": [
    {
     "data": {
      "text/html": [
       "<div>\n",
       "<style scoped>\n",
       "    .dataframe tbody tr th:only-of-type {\n",
       "        vertical-align: middle;\n",
       "    }\n",
       "\n",
       "    .dataframe tbody tr th {\n",
       "        vertical-align: top;\n",
       "    }\n",
       "\n",
       "    .dataframe thead th {\n",
       "        text-align: right;\n",
       "    }\n",
       "</style>\n",
       "<table border=\"1\" class=\"dataframe\">\n",
       "  <thead>\n",
       "    <tr style=\"text-align: right;\">\n",
       "      <th></th>\n",
       "      <th>age</th>\n",
       "      <th>job</th>\n",
       "      <th>marital</th>\n",
       "      <th>education</th>\n",
       "      <th>default</th>\n",
       "      <th>housing</th>\n",
       "      <th>loan</th>\n",
       "      <th>contact</th>\n",
       "      <th>month</th>\n",
       "      <th>day_of_week</th>\n",
       "      <th>duration</th>\n",
       "      <th>campaign</th>\n",
       "      <th>pdays</th>\n",
       "      <th>previous</th>\n",
       "      <th>poutcome</th>\n",
       "      <th>emp.var.rate</th>\n",
       "      <th>cons.price.idx</th>\n",
       "      <th>cons.conf.idx</th>\n",
       "      <th>euribor3m</th>\n",
       "      <th>nr.employed</th>\n",
       "      <th>y</th>\n",
       "    </tr>\n",
       "  </thead>\n",
       "  <tbody>\n",
       "    <tr>\n",
       "      <th>41183</th>\n",
       "      <td>73</td>\n",
       "      <td>retired</td>\n",
       "      <td>married</td>\n",
       "      <td>professional.course</td>\n",
       "      <td>no</td>\n",
       "      <td>yes</td>\n",
       "      <td>no</td>\n",
       "      <td>cellular</td>\n",
       "      <td>nov</td>\n",
       "      <td>fri</td>\n",
       "      <td>334</td>\n",
       "      <td>1</td>\n",
       "      <td>999</td>\n",
       "      <td>0</td>\n",
       "      <td>nonexistent</td>\n",
       "      <td>-1.1</td>\n",
       "      <td>94.767</td>\n",
       "      <td>-50.8</td>\n",
       "      <td>1.028</td>\n",
       "      <td>4963.6</td>\n",
       "      <td>yes</td>\n",
       "    </tr>\n",
       "    <tr>\n",
       "      <th>41184</th>\n",
       "      <td>46</td>\n",
       "      <td>blue-collar</td>\n",
       "      <td>married</td>\n",
       "      <td>professional.course</td>\n",
       "      <td>no</td>\n",
       "      <td>no</td>\n",
       "      <td>no</td>\n",
       "      <td>cellular</td>\n",
       "      <td>nov</td>\n",
       "      <td>fri</td>\n",
       "      <td>383</td>\n",
       "      <td>1</td>\n",
       "      <td>999</td>\n",
       "      <td>0</td>\n",
       "      <td>nonexistent</td>\n",
       "      <td>-1.1</td>\n",
       "      <td>94.767</td>\n",
       "      <td>-50.8</td>\n",
       "      <td>1.028</td>\n",
       "      <td>4963.6</td>\n",
       "      <td>no</td>\n",
       "    </tr>\n",
       "    <tr>\n",
       "      <th>41185</th>\n",
       "      <td>56</td>\n",
       "      <td>retired</td>\n",
       "      <td>married</td>\n",
       "      <td>university.degree</td>\n",
       "      <td>no</td>\n",
       "      <td>yes</td>\n",
       "      <td>no</td>\n",
       "      <td>cellular</td>\n",
       "      <td>nov</td>\n",
       "      <td>fri</td>\n",
       "      <td>189</td>\n",
       "      <td>2</td>\n",
       "      <td>999</td>\n",
       "      <td>0</td>\n",
       "      <td>nonexistent</td>\n",
       "      <td>-1.1</td>\n",
       "      <td>94.767</td>\n",
       "      <td>-50.8</td>\n",
       "      <td>1.028</td>\n",
       "      <td>4963.6</td>\n",
       "      <td>no</td>\n",
       "    </tr>\n",
       "    <tr>\n",
       "      <th>41186</th>\n",
       "      <td>44</td>\n",
       "      <td>technician</td>\n",
       "      <td>married</td>\n",
       "      <td>professional.course</td>\n",
       "      <td>no</td>\n",
       "      <td>no</td>\n",
       "      <td>no</td>\n",
       "      <td>cellular</td>\n",
       "      <td>nov</td>\n",
       "      <td>fri</td>\n",
       "      <td>442</td>\n",
       "      <td>1</td>\n",
       "      <td>999</td>\n",
       "      <td>0</td>\n",
       "      <td>nonexistent</td>\n",
       "      <td>-1.1</td>\n",
       "      <td>94.767</td>\n",
       "      <td>-50.8</td>\n",
       "      <td>1.028</td>\n",
       "      <td>4963.6</td>\n",
       "      <td>yes</td>\n",
       "    </tr>\n",
       "    <tr>\n",
       "      <th>41187</th>\n",
       "      <td>74</td>\n",
       "      <td>retired</td>\n",
       "      <td>married</td>\n",
       "      <td>professional.course</td>\n",
       "      <td>no</td>\n",
       "      <td>yes</td>\n",
       "      <td>no</td>\n",
       "      <td>cellular</td>\n",
       "      <td>nov</td>\n",
       "      <td>fri</td>\n",
       "      <td>239</td>\n",
       "      <td>3</td>\n",
       "      <td>999</td>\n",
       "      <td>1</td>\n",
       "      <td>failure</td>\n",
       "      <td>-1.1</td>\n",
       "      <td>94.767</td>\n",
       "      <td>-50.8</td>\n",
       "      <td>1.028</td>\n",
       "      <td>4963.6</td>\n",
       "      <td>no</td>\n",
       "    </tr>\n",
       "  </tbody>\n",
       "</table>\n",
       "</div>"
      ],
      "text/plain": [
       "       age          job  marital            education default housing loan  \\\n",
       "41183   73      retired  married  professional.course      no     yes   no   \n",
       "41184   46  blue-collar  married  professional.course      no      no   no   \n",
       "41185   56      retired  married    university.degree      no     yes   no   \n",
       "41186   44   technician  married  professional.course      no      no   no   \n",
       "41187   74      retired  married  professional.course      no     yes   no   \n",
       "\n",
       "        contact month day_of_week  duration  campaign  pdays  previous  \\\n",
       "41183  cellular   nov         fri       334         1    999         0   \n",
       "41184  cellular   nov         fri       383         1    999         0   \n",
       "41185  cellular   nov         fri       189         2    999         0   \n",
       "41186  cellular   nov         fri       442         1    999         0   \n",
       "41187  cellular   nov         fri       239         3    999         1   \n",
       "\n",
       "          poutcome  emp.var.rate  cons.price.idx  cons.conf.idx  euribor3m  \\\n",
       "41183  nonexistent          -1.1          94.767          -50.8      1.028   \n",
       "41184  nonexistent          -1.1          94.767          -50.8      1.028   \n",
       "41185  nonexistent          -1.1          94.767          -50.8      1.028   \n",
       "41186  nonexistent          -1.1          94.767          -50.8      1.028   \n",
       "41187      failure          -1.1          94.767          -50.8      1.028   \n",
       "\n",
       "       nr.employed    y  \n",
       "41183       4963.6  yes  \n",
       "41184       4963.6   no  \n",
       "41185       4963.6   no  \n",
       "41186       4963.6  yes  \n",
       "41187       4963.6   no  "
      ]
     },
     "execution_count": 4,
     "metadata": {},
     "output_type": "execute_result"
    }
   ],
   "source": [
    "# Menampilkan 5 informasi terbawah\n",
    "df.tail()"
   ]
  },
  {
   "cell_type": "code",
   "execution_count": 5,
   "metadata": {},
   "outputs": [
    {
     "data": {
      "text/plain": [
       "(41188, 21)"
      ]
     },
     "execution_count": 5,
     "metadata": {},
     "output_type": "execute_result"
    }
   ],
   "source": [
    "# Menampilkan informasi jumlah baris dan kolum\n",
    "df.shape"
   ]
  },
  {
   "cell_type": "markdown",
   "metadata": {},
   "source": [
    "Ringkasan :\n",
    "- Dataset terdiri dari 41188 baris dan 21 kolum"
   ]
  },
  {
   "cell_type": "code",
   "execution_count": 6,
   "metadata": {},
   "outputs": [
    {
     "name": "stdout",
     "output_type": "stream",
     "text": [
      "<class 'pandas.core.frame.DataFrame'>\n",
      "RangeIndex: 41188 entries, 0 to 41187\n",
      "Data columns (total 21 columns):\n",
      " #   Column          Non-Null Count  Dtype  \n",
      "---  ------          --------------  -----  \n",
      " 0   age             41188 non-null  int64  \n",
      " 1   job             41188 non-null  object \n",
      " 2   marital         41188 non-null  object \n",
      " 3   education       41188 non-null  object \n",
      " 4   default         41188 non-null  object \n",
      " 5   housing         41188 non-null  object \n",
      " 6   loan            41188 non-null  object \n",
      " 7   contact         41188 non-null  object \n",
      " 8   month           41188 non-null  object \n",
      " 9   day_of_week     41188 non-null  object \n",
      " 10  duration        41188 non-null  int64  \n",
      " 11  campaign        41188 non-null  int64  \n",
      " 12  pdays           41188 non-null  int64  \n",
      " 13  previous        41188 non-null  int64  \n",
      " 14  poutcome        41188 non-null  object \n",
      " 15  emp.var.rate    41188 non-null  float64\n",
      " 16  cons.price.idx  41188 non-null  float64\n",
      " 17  cons.conf.idx   41188 non-null  float64\n",
      " 18  euribor3m       41188 non-null  float64\n",
      " 19  nr.employed     41188 non-null  float64\n",
      " 20  y               41188 non-null  object \n",
      "dtypes: float64(5), int64(5), object(11)\n",
      "memory usage: 6.6+ MB\n"
     ]
    }
   ],
   "source": [
    "# Menampilkan informasi tipe data dan missing values dataset\n",
    "df.info()"
   ]
  },
  {
   "cell_type": "markdown",
   "metadata": {},
   "source": [
    "Ringkasan :\n",
    "- Dataset terdiri dari 2 tipe data : numerik dan object\n",
    "- Tidak ada data yang hilang/missing values"
   ]
  },
  {
   "cell_type": "code",
   "execution_count": 7,
   "metadata": {},
   "outputs": [
    {
     "data": {
      "text/plain": [
       "Index(['age', 'job', 'marital', 'education', 'default', 'housing', 'loan',\n",
       "       'contact', 'month', 'day_of_week', 'duration', 'campaign', 'pdays',\n",
       "       'previous', 'poutcome', 'emp.var.rate', 'cons.price.idx',\n",
       "       'cons.conf.idx', 'euribor3m', 'nr.employed', 'y'],\n",
       "      dtype='object')"
      ]
     },
     "execution_count": 7,
     "metadata": {},
     "output_type": "execute_result"
    }
   ],
   "source": [
    "# Menampilkan informasi seluruh kolum pada dataset\n",
    "df.columns"
   ]
  },
  {
   "cell_type": "markdown",
   "metadata": {},
   "source": [
    "Ringkasan : \n",
    "- Terdiri dari 21 kolum"
   ]
  },
  {
   "cell_type": "code",
   "execution_count": 8,
   "metadata": {},
   "outputs": [
    {
     "data": {
      "text/plain": [
       "age               0\n",
       "job               0\n",
       "marital           0\n",
       "education         0\n",
       "default           0\n",
       "housing           0\n",
       "loan              0\n",
       "contact           0\n",
       "month             0\n",
       "day_of_week       0\n",
       "duration          0\n",
       "campaign          0\n",
       "pdays             0\n",
       "previous          0\n",
       "poutcome          0\n",
       "emp.var.rate      0\n",
       "cons.price.idx    0\n",
       "cons.conf.idx     0\n",
       "euribor3m         0\n",
       "nr.employed       0\n",
       "y                 0\n",
       "dtype: int64"
      ]
     },
     "execution_count": 8,
     "metadata": {},
     "output_type": "execute_result"
    }
   ],
   "source": [
    "# Menampilkan informasi apakah ada data yang hilang\n",
    "df.isnull().sum()"
   ]
  },
  {
   "cell_type": "markdown",
   "metadata": {},
   "source": [
    "Ringkasan :\n",
    "- Tidak ada data yang hilang"
   ]
  },
  {
   "cell_type": "code",
   "execution_count": 9,
   "metadata": {},
   "outputs": [
    {
     "data": {
      "text/html": [
       "<div>\n",
       "<style scoped>\n",
       "    .dataframe tbody tr th:only-of-type {\n",
       "        vertical-align: middle;\n",
       "    }\n",
       "\n",
       "    .dataframe tbody tr th {\n",
       "        vertical-align: top;\n",
       "    }\n",
       "\n",
       "    .dataframe thead th {\n",
       "        text-align: right;\n",
       "    }\n",
       "</style>\n",
       "<table border=\"1\" class=\"dataframe\">\n",
       "  <thead>\n",
       "    <tr style=\"text-align: right;\">\n",
       "      <th></th>\n",
       "      <th>age</th>\n",
       "      <th>duration</th>\n",
       "      <th>campaign</th>\n",
       "      <th>pdays</th>\n",
       "      <th>previous</th>\n",
       "      <th>emp.var.rate</th>\n",
       "      <th>cons.price.idx</th>\n",
       "      <th>cons.conf.idx</th>\n",
       "      <th>euribor3m</th>\n",
       "      <th>nr.employed</th>\n",
       "    </tr>\n",
       "  </thead>\n",
       "  <tbody>\n",
       "    <tr>\n",
       "      <th>count</th>\n",
       "      <td>41188.00000</td>\n",
       "      <td>41188.000000</td>\n",
       "      <td>41188.000000</td>\n",
       "      <td>41188.000000</td>\n",
       "      <td>41188.000000</td>\n",
       "      <td>41188.000000</td>\n",
       "      <td>41188.000000</td>\n",
       "      <td>41188.000000</td>\n",
       "      <td>41188.000000</td>\n",
       "      <td>41188.000000</td>\n",
       "    </tr>\n",
       "    <tr>\n",
       "      <th>mean</th>\n",
       "      <td>40.02406</td>\n",
       "      <td>258.285010</td>\n",
       "      <td>2.567593</td>\n",
       "      <td>962.475454</td>\n",
       "      <td>0.172963</td>\n",
       "      <td>0.081886</td>\n",
       "      <td>93.575664</td>\n",
       "      <td>-40.502600</td>\n",
       "      <td>3.621291</td>\n",
       "      <td>5167.035911</td>\n",
       "    </tr>\n",
       "    <tr>\n",
       "      <th>std</th>\n",
       "      <td>10.42125</td>\n",
       "      <td>259.279249</td>\n",
       "      <td>2.770014</td>\n",
       "      <td>186.910907</td>\n",
       "      <td>0.494901</td>\n",
       "      <td>1.570960</td>\n",
       "      <td>0.578840</td>\n",
       "      <td>4.628198</td>\n",
       "      <td>1.734447</td>\n",
       "      <td>72.251528</td>\n",
       "    </tr>\n",
       "    <tr>\n",
       "      <th>min</th>\n",
       "      <td>17.00000</td>\n",
       "      <td>0.000000</td>\n",
       "      <td>1.000000</td>\n",
       "      <td>0.000000</td>\n",
       "      <td>0.000000</td>\n",
       "      <td>-3.400000</td>\n",
       "      <td>92.201000</td>\n",
       "      <td>-50.800000</td>\n",
       "      <td>0.634000</td>\n",
       "      <td>4963.600000</td>\n",
       "    </tr>\n",
       "    <tr>\n",
       "      <th>25%</th>\n",
       "      <td>32.00000</td>\n",
       "      <td>102.000000</td>\n",
       "      <td>1.000000</td>\n",
       "      <td>999.000000</td>\n",
       "      <td>0.000000</td>\n",
       "      <td>-1.800000</td>\n",
       "      <td>93.075000</td>\n",
       "      <td>-42.700000</td>\n",
       "      <td>1.344000</td>\n",
       "      <td>5099.100000</td>\n",
       "    </tr>\n",
       "    <tr>\n",
       "      <th>50%</th>\n",
       "      <td>38.00000</td>\n",
       "      <td>180.000000</td>\n",
       "      <td>2.000000</td>\n",
       "      <td>999.000000</td>\n",
       "      <td>0.000000</td>\n",
       "      <td>1.100000</td>\n",
       "      <td>93.749000</td>\n",
       "      <td>-41.800000</td>\n",
       "      <td>4.857000</td>\n",
       "      <td>5191.000000</td>\n",
       "    </tr>\n",
       "    <tr>\n",
       "      <th>75%</th>\n",
       "      <td>47.00000</td>\n",
       "      <td>319.000000</td>\n",
       "      <td>3.000000</td>\n",
       "      <td>999.000000</td>\n",
       "      <td>0.000000</td>\n",
       "      <td>1.400000</td>\n",
       "      <td>93.994000</td>\n",
       "      <td>-36.400000</td>\n",
       "      <td>4.961000</td>\n",
       "      <td>5228.100000</td>\n",
       "    </tr>\n",
       "    <tr>\n",
       "      <th>max</th>\n",
       "      <td>98.00000</td>\n",
       "      <td>4918.000000</td>\n",
       "      <td>56.000000</td>\n",
       "      <td>999.000000</td>\n",
       "      <td>7.000000</td>\n",
       "      <td>1.400000</td>\n",
       "      <td>94.767000</td>\n",
       "      <td>-26.900000</td>\n",
       "      <td>5.045000</td>\n",
       "      <td>5228.100000</td>\n",
       "    </tr>\n",
       "  </tbody>\n",
       "</table>\n",
       "</div>"
      ],
      "text/plain": [
       "               age      duration      campaign         pdays      previous  \\\n",
       "count  41188.00000  41188.000000  41188.000000  41188.000000  41188.000000   \n",
       "mean      40.02406    258.285010      2.567593    962.475454      0.172963   \n",
       "std       10.42125    259.279249      2.770014    186.910907      0.494901   \n",
       "min       17.00000      0.000000      1.000000      0.000000      0.000000   \n",
       "25%       32.00000    102.000000      1.000000    999.000000      0.000000   \n",
       "50%       38.00000    180.000000      2.000000    999.000000      0.000000   \n",
       "75%       47.00000    319.000000      3.000000    999.000000      0.000000   \n",
       "max       98.00000   4918.000000     56.000000    999.000000      7.000000   \n",
       "\n",
       "       emp.var.rate  cons.price.idx  cons.conf.idx     euribor3m   nr.employed  \n",
       "count  41188.000000    41188.000000   41188.000000  41188.000000  41188.000000  \n",
       "mean       0.081886       93.575664     -40.502600      3.621291   5167.035911  \n",
       "std        1.570960        0.578840       4.628198      1.734447     72.251528  \n",
       "min       -3.400000       92.201000     -50.800000      0.634000   4963.600000  \n",
       "25%       -1.800000       93.075000     -42.700000      1.344000   5099.100000  \n",
       "50%        1.100000       93.749000     -41.800000      4.857000   5191.000000  \n",
       "75%        1.400000       93.994000     -36.400000      4.961000   5228.100000  \n",
       "max        1.400000       94.767000     -26.900000      5.045000   5228.100000  "
      ]
     },
     "execution_count": 9,
     "metadata": {},
     "output_type": "execute_result"
    }
   ],
   "source": [
    "# Menampilkan informasi statistika tipe data numerikal\n",
    "df.describe()"
   ]
  },
  {
   "cell_type": "markdown",
   "metadata": {},
   "source": [
    "Ringkasan : \n",
    "- Age yang tertinggi ialah 98\n",
    "- Duration tertinggi adalah 4918\n",
    "- Campaign tertinggi adalah 56\n",
    "- Pdays tertinggi adalah 999/tidak ada dihubungi kembali\n",
    "- Previous tertinggi adalah 7\n",
    "- emp.var rate tertinggi adalah 1.4\n",
    "- cons.price idx tertinggi adalah 94.7\n",
    "- euribor3m tertinggi adalah 5\n",
    "- jumlah karyawan terbanyak adalah 5228"
   ]
  },
  {
   "cell_type": "code",
   "execution_count": 10,
   "metadata": {},
   "outputs": [
    {
     "data": {
      "text/html": [
       "<div>\n",
       "<style scoped>\n",
       "    .dataframe tbody tr th:only-of-type {\n",
       "        vertical-align: middle;\n",
       "    }\n",
       "\n",
       "    .dataframe tbody tr th {\n",
       "        vertical-align: top;\n",
       "    }\n",
       "\n",
       "    .dataframe thead th {\n",
       "        text-align: right;\n",
       "    }\n",
       "</style>\n",
       "<table border=\"1\" class=\"dataframe\">\n",
       "  <thead>\n",
       "    <tr style=\"text-align: right;\">\n",
       "      <th></th>\n",
       "      <th>job</th>\n",
       "      <th>marital</th>\n",
       "      <th>education</th>\n",
       "      <th>default</th>\n",
       "      <th>housing</th>\n",
       "      <th>loan</th>\n",
       "      <th>contact</th>\n",
       "      <th>month</th>\n",
       "      <th>day_of_week</th>\n",
       "      <th>poutcome</th>\n",
       "      <th>y</th>\n",
       "    </tr>\n",
       "  </thead>\n",
       "  <tbody>\n",
       "    <tr>\n",
       "      <th>count</th>\n",
       "      <td>41188</td>\n",
       "      <td>41188</td>\n",
       "      <td>41188</td>\n",
       "      <td>41188</td>\n",
       "      <td>41188</td>\n",
       "      <td>41188</td>\n",
       "      <td>41188</td>\n",
       "      <td>41188</td>\n",
       "      <td>41188</td>\n",
       "      <td>41188</td>\n",
       "      <td>41188</td>\n",
       "    </tr>\n",
       "    <tr>\n",
       "      <th>unique</th>\n",
       "      <td>12</td>\n",
       "      <td>4</td>\n",
       "      <td>8</td>\n",
       "      <td>3</td>\n",
       "      <td>3</td>\n",
       "      <td>3</td>\n",
       "      <td>2</td>\n",
       "      <td>10</td>\n",
       "      <td>5</td>\n",
       "      <td>3</td>\n",
       "      <td>2</td>\n",
       "    </tr>\n",
       "    <tr>\n",
       "      <th>top</th>\n",
       "      <td>admin.</td>\n",
       "      <td>married</td>\n",
       "      <td>university.degree</td>\n",
       "      <td>no</td>\n",
       "      <td>yes</td>\n",
       "      <td>no</td>\n",
       "      <td>cellular</td>\n",
       "      <td>may</td>\n",
       "      <td>thu</td>\n",
       "      <td>nonexistent</td>\n",
       "      <td>no</td>\n",
       "    </tr>\n",
       "    <tr>\n",
       "      <th>freq</th>\n",
       "      <td>10422</td>\n",
       "      <td>24928</td>\n",
       "      <td>12168</td>\n",
       "      <td>32588</td>\n",
       "      <td>21576</td>\n",
       "      <td>33950</td>\n",
       "      <td>26144</td>\n",
       "      <td>13769</td>\n",
       "      <td>8623</td>\n",
       "      <td>35563</td>\n",
       "      <td>36548</td>\n",
       "    </tr>\n",
       "  </tbody>\n",
       "</table>\n",
       "</div>"
      ],
      "text/plain": [
       "           job  marital          education default housing   loan   contact  \\\n",
       "count    41188    41188              41188   41188   41188  41188     41188   \n",
       "unique      12        4                  8       3       3      3         2   \n",
       "top     admin.  married  university.degree      no     yes     no  cellular   \n",
       "freq     10422    24928              12168   32588   21576  33950     26144   \n",
       "\n",
       "        month day_of_week     poutcome      y  \n",
       "count   41188       41188        41188  41188  \n",
       "unique     10           5            3      2  \n",
       "top       may         thu  nonexistent     no  \n",
       "freq    13769        8623        35563  36548  "
      ]
     },
     "execution_count": 10,
     "metadata": {},
     "output_type": "execute_result"
    }
   ],
   "source": [
    "# Menampilkan informasi statistika tipe object pada dataset\n",
    "df.describe(include=['object'])"
   ]
  },
  {
   "cell_type": "markdown",
   "metadata": {},
   "source": [
    "Ringkasan :\n",
    "- job mempunyai label 12, yang paling banyak muncul adalah admin. dan berjumlah 10422\n",
    "- Marital mempunyai label 4 dan yang paling banyak muncul adalah sudah menikah dengan jumlah 24928\n",
    "- Education mempunyai label 8 yang paling banyak muncul adalah university degree dengan jumlah 12168\n",
    "- Default mempunyai label 3 dan yang paling banyak muncul adalah no dengan jumlah 32588\n",
    "- Housing mempunyai label 3 dengan yang paling banyak muncul adalah yes dengan jumlah 21576\n",
    "- Loan mempunyai label 3 dengan yang paling banyak adalah no dengan jumlah 33950\n",
    "- Contact mempunyai label 2 dengan yang paling banyak adalah celluler dengna jumlah 26144\n",
    "- Month mempunya label 10 dengan yang paling banyak muncul adalah may dengan jumlah 13769\n",
    "- Day of week mempunyai label 5 dengan yang paling banyak muncul adalah thursday dengan jumlah 8623\n",
    "- Poutocme mempunyai label 3 dengan yang paling banyak muncul adalah nonexistent dengan jumlah 35563\n",
    "- y mempunyai label 2 dengan yang paling banyak muncul adalah no dengan jumlah 36548"
   ]
  },
  {
   "cell_type": "markdown",
   "metadata": {},
   "source": [
    "# Visualisasi "
   ]
  },
  {
   "cell_type": "code",
   "execution_count": 11,
   "metadata": {},
   "outputs": [
    {
     "data": {
      "image/png": "[encoded data removed]",
      "text/plain": [
       "<Figure size 2160x360 with 2 Axes>"
      ]
     },
     "metadata": {
      "needs_background": "light"
     },
     "output_type": "display_data"
    }
   ],
   "source": [
    "# Job\n",
    "fig, (ax1, ax2) = plt.subplots(nrows = 1, ncols = 2, figsize = (30,5))\n",
    "sns.countplot(x = 'job', data = df, ax = ax1, order = ['housemaid', 'services', 'admin.', 'blue-collar', 'technician',\n",
    "       'retired', 'management', 'unemployed', 'self-employed', 'unknown',\n",
    "       'entrepreneur', 'student'], color='b')\n",
    "ax1.set_title('Job', fontsize=15)\n",
    "ax1.set_xlabel('')\n",
    "ax1.set_ylabel('Count', fontsize=15)\n",
    "ax1.tick_params(labelsize=10)\n",
    "\n",
    "# Martial\n",
    "sns.countplot(x = 'marital', data = df, ax = ax2, order = ['married', 'single', 'divorced', 'unknown'], color='b')\n",
    "ax2.set_title('Marital', fontsize=15)\n",
    "ax2.set_xlabel('')\n",
    "ax2.set_ylabel('Count', fontsize=15)\n",
    "ax2.tick_params(labelsize=15)\n",
    "\n",
    "plt.subplots_adjust(wspace=0.1)"
   ]
  },
  {
   "cell_type": "markdown",
   "metadata": {},
   "source": [
    "Ringkasan :\n",
    "- Jumlah job yang paling banyak yaitu admin. dan paling sedikit unknown\n",
    "- Jumlah status perkawinan yang paling banyak yaitu sudah menikah dan tidak diketahui paling sedikit"
   ]
  },
  {
   "cell_type": "code",
   "execution_count": 12,
   "metadata": {},
   "outputs": [
    {
     "data": {
      "image/png": "[encoded data removed]",
      "text/plain": [
       "<Figure size 2160x360 with 6 Axes>"
      ]
     },
     "metadata": {
      "needs_background": "light"
     },
     "output_type": "display_data"
    }
   ],
   "source": [
    "# Contact\n",
    "fig, (ax1, ax2, ax3, ax4, ax5, ax6) = plt.subplots(nrows = 1, ncols = 6, figsize = (30,5))\n",
    "sns.countplot(x = 'contact', data = df, ax = ax1, order = ['telephone','cellular'], color='b')\n",
    "ax1.set_title('Contact', fontsize=15)\n",
    "ax1.set_xlabel('')\n",
    "ax1.set_ylabel('Count', fontsize=15)\n",
    "ax1.tick_params(labelsize=15)\n",
    "\n",
    "# Default\n",
    "sns.countplot(x = 'default', data = df, ax = ax2, order = ['no', 'unknown', 'yes'], color='b')\n",
    "ax2.set_title('Default', fontsize=15)\n",
    "ax2.set_xlabel('')\n",
    "ax2.set_ylabel('Count', fontsize=15)\n",
    "ax2.tick_params(labelsize=15)\n",
    "\n",
    "# Housing, has housing loan ?\n",
    "sns.countplot(x = 'housing', data = df, ax = ax3, order = ['no', 'unknown', 'yes'], color='b')\n",
    "ax3.set_title('Housing', fontsize=15)\n",
    "ax3.set_xlabel('')\n",
    "ax3.set_ylabel('Count', fontsize=15)\n",
    "ax3.tick_params(labelsize=15)\n",
    "\n",
    "# Loan, has personal loan ?\n",
    "sns.countplot(x = 'loan', data = df, ax = ax4, order = ['no', 'unknown', 'yes'], color='b')\n",
    "ax4.set_title('Loan', fontsize=15)\n",
    "ax4.set_xlabel('')\n",
    "ax4.set_ylabel('Count', fontsize=15)\n",
    "ax4.tick_params(labelsize=15)\n",
    "\n",
    "# poutcome\n",
    "sns.countplot(x = 'poutcome', data = df, ax = ax5, order = ['nonexistent', 'failure', 'success'], color='b')\n",
    "ax5.set_title('poutcome', fontsize=15)\n",
    "ax5.set_xlabel('')\n",
    "ax5.set_ylabel('Count', fontsize=15)\n",
    "ax5.tick_params(labelsize=15)\n",
    "\n",
    "# y\n",
    "sns.countplot(x = 'y', data = df, ax = ax6, order = ['no','yes'], color='b')\n",
    "ax6.set_title('y', fontsize=15)\n",
    "ax6.set_xlabel('')\n",
    "ax6.set_ylabel('Count', fontsize=15)\n",
    "ax6.tick_params(labelsize=15)\n",
    "\n",
    "plt.subplots_adjust(wspace=0.5)"
   ]
  },
  {
   "cell_type": "markdown",
   "metadata": {},
   "source": [
    "Ringkasan :\n",
    "- Jumlah kontak yang paling banyak dilakukan melalui seluler\n",
    "- Jumlah default atau yang menggunakan kartu kredit paling banyak itu no, atau tidak ada dan tidak ada satu pun yang menggunakan kartu kredit\n",
    "- Jumlah orang yang sudah melakukan pinjaman rumah paling banyak\n",
    "- Jumlah orang yang berhutang itu paling banyak tidak ada\n",
    "- Jumlah yang berhasil setelah dilakukan nya operasi deposito jangka panjang tidak diketahui\n",
    "- Jumlah orang yang ingin melakukan deposito jangka panjang yang paling banyak tidak"
   ]
  },
  {
   "cell_type": "code",
   "execution_count": 13,
   "metadata": {},
   "outputs": [
    {
     "data": {
      "image/png": "[encoded data removed]",
      "text/plain": [
       "<Figure size 2160x360 with 2 Axes>"
      ]
     },
     "metadata": {
      "needs_background": "light"
     },
     "output_type": "display_data"
    }
   ],
   "source": [
    "# Month\n",
    "fig, (ax1, ax2) = plt.subplots(nrows = 1, ncols = 2, figsize = (30,5))\n",
    "sns.countplot(x = 'month', data = df, ax = ax1, order = ['may', 'jun', 'jul', 'aug', 'oct', 'nov', 'dec', 'mar', 'apr',\n",
    "       'sep'], color='b')\n",
    "ax1.set_title('Month', fontsize=15)\n",
    "ax1.set_xlabel('')\n",
    "ax1.set_ylabel('Count', fontsize=15)\n",
    "ax1.tick_params(labelsize=10)\n",
    "\n",
    "# Day_of_week\n",
    "sns.countplot(x = 'day_of_week', data = df, ax = ax2, order = ['mon', 'tue', 'wed', 'thu', 'fri'], color='b')\n",
    "ax2.set_title('Day_of_week', fontsize=15)\n",
    "ax2.set_xlabel('')\n",
    "ax2.set_ylabel('Count', fontsize=15)\n",
    "ax2.tick_params(labelsize=15)\n",
    "\n",
    "plt.subplots_adjust(wspace=0.1)"
   ]
  },
  {
   "cell_type": "markdown",
   "metadata": {},
   "source": [
    "Ringkasan :\n",
    "- Operasi dilakukan paling sering pada bulan may\n",
    "- Operasi dilakukan setiap minggu dan yang paling banyak ialah hari kamis"
   ]
  },
  {
   "cell_type": "markdown",
   "metadata": {},
   "source": [
    "Outliers"
   ]
  },
  {
   "cell_type": "code",
   "execution_count": 14,
   "metadata": {},
   "outputs": [
    {
     "data": {
      "text/plain": [
       "Text(0, 0.5, 'Campaign')"
      ]
     },
     "execution_count": 14,
     "metadata": {},
     "output_type": "execute_result"
    },
    {
     "data": {
      "image/png": "[encoded data removed]",
      "text/plain": [
       "<Figure size 1080x720 with 4 Axes>"
      ]
     },
     "metadata": {
      "needs_background": "light"
     },
     "output_type": "display_data"
    }
   ],
   "source": [
    "# Menampilkan boxplots visualisasi outliers\n",
    "\n",
    "plt.figure(figsize=(15,10))\n",
    "\n",
    "\n",
    "plt.subplot(2, 2, 1)\n",
    "fig = df.boxplot(column='age')\n",
    "fig.set_title('')\n",
    "fig.set_ylabel('Age')\n",
    "\n",
    "\n",
    "plt.subplot(2, 2, 2)\n",
    "fig = df.boxplot(column='duration')\n",
    "fig.set_title('')\n",
    "fig.set_ylabel('Duration')\n",
    "\n",
    "\n",
    "plt.subplot(2, 2, 3)\n",
    "fig = df.boxplot(column='nr.employed')\n",
    "fig.set_title('')\n",
    "fig.set_ylabel('nr.employed')\n",
    "\n",
    "\n",
    "plt.subplot(2, 2, 4)\n",
    "fig = df.boxplot(column='campaign')\n",
    "fig.set_title('')\n",
    "fig.set_ylabel('Campaign')"
   ]
  },
  {
   "cell_type": "markdown",
   "metadata": {},
   "source": [
    "Ringkasan :\n",
    "- Terdapat outlier pada age, duration, campaign"
   ]
  },
  {
   "cell_type": "code",
   "execution_count": 15,
   "metadata": {},
   "outputs": [
    {
     "data": {
      "image/png": "[encoded data removed]",
      "text/plain": [
       "<Figure size 2160x864 with 12 Axes>"
      ]
     },
     "metadata": {},
     "output_type": "display_data"
    }
   ],
   "source": [
    "plt.style.use('seaborn-whitegrid')\n",
    "\n",
    "df.hist(bins=20, figsize=(30,12), color='b')\n",
    "plt.show()"
   ]
  },
  {
   "cell_type": "markdown",
   "metadata": {},
   "source": [
    "Ringkasan :\n",
    "- Persebaran data umur hampir mendekati normal distribusi dan yang lainnya skewed"
   ]
  },
  {
   "cell_type": "markdown",
   "metadata": {},
   "source": [
    "# Splitting dataset"
   ]
  },
  {
   "cell_type": "code",
   "execution_count": 3,
   "metadata": {},
   "outputs": [],
   "source": [
    "X = df.drop(['duration', 'y'], axis=1)\n",
    "y = df['y']\n",
    "X_train, X_test, y_train, y_test = train_test_split(X, y, test_size=0.3, random_state=0)\n",
    "X_train, X_val, y_train, y_val = train_test_split(X_train, y_train, test_size=0.1, random_state=0)"
   ]
  },
  {
   "cell_type": "markdown",
   "metadata": {},
   "source": [
    "Ringkasan :\n",
    "- Splitting dilakukan dengan proporsi Train 70 dan test 30\n",
    "- Setelah itu di split lagi dengan proporsi 90 dan val 10"
   ]
  },
  {
   "cell_type": "code",
   "execution_count": 17,
   "metadata": {},
   "outputs": [
    {
     "data": {
      "text/plain": [
       "(25947, 19)"
      ]
     },
     "execution_count": 17,
     "metadata": {},
     "output_type": "execute_result"
    }
   ],
   "source": [
    "# Jumlah data train\n",
    "X_train.shape"
   ]
  },
  {
   "cell_type": "code",
   "execution_count": 18,
   "metadata": {},
   "outputs": [
    {
     "data": {
      "text/plain": [
       "(12357, 19)"
      ]
     },
     "execution_count": 18,
     "metadata": {},
     "output_type": "execute_result"
    }
   ],
   "source": [
    "# Jumlah data test\n",
    "X_test.shape"
   ]
  },
  {
   "cell_type": "code",
   "execution_count": 19,
   "metadata": {},
   "outputs": [
    {
     "data": {
      "text/plain": [
       "(2884, 19)"
      ]
     },
     "execution_count": 19,
     "metadata": {},
     "output_type": "execute_result"
    }
   ],
   "source": [
    "# Jumlah data validasi\n",
    "X_val.shape"
   ]
  },
  {
   "cell_type": "markdown",
   "metadata": {},
   "source": [
    "# Preprocessing"
   ]
  },
  {
   "cell_type": "code",
   "execution_count": 4,
   "metadata": {},
   "outputs": [],
   "source": [
    "# Membuat kolum class untuk numerikal dan categorical \n",
    "class OldDataFrameSelector(BaseEstimator, TransformerMixin):\n",
    "    def __init__(self, attribute_names):\n",
    "        self.attribute_names = attribute_names\n",
    "    def fit(self, X, y=None):\n",
    "        return self\n",
    "    def transform(self, X):\n",
    "        return X[self.attribute_names].values"
   ]
  },
  {
   "cell_type": "code",
   "execution_count": 5,
   "metadata": {},
   "outputs": [],
   "source": [
    "# Menggunakan pipline untuk scaling dan encoding\n",
    "num_attribs = ['age','campaign', 'pdays','previous','emp.var.rate','cons.price.idx','cons.conf.idx','euribor3m','nr.employed']\n",
    "cat_attribs = ['job', 'marital', 'education', 'default', 'housing', 'loan', 'contact', 'month', 'day_of_week', 'poutcome']\n",
    "\n",
    "old_num_pipeline = Pipeline([\n",
    "        ('selector', OldDataFrameSelector(num_attribs)),\n",
    "        ('std_scaler', StandardScaler()),\n",
    "    ])\n",
    "\n",
    "old_cat_pipeline = Pipeline([\n",
    "        ('selector', OldDataFrameSelector(cat_attribs)),\n",
    "        ('cat_encoder', OneHotEncoder(sparse=False)),\n",
    "    ])"
   ]
  },
  {
   "cell_type": "code",
   "execution_count": 6,
   "metadata": {},
   "outputs": [],
   "source": [
    "old_full_pipeline = FeatureUnion(transformer_list=[\n",
    "        (\"num_pipeline\", old_num_pipeline),\n",
    "        (\"cat_pipeline\", old_cat_pipeline),\n",
    "    ])"
   ]
  },
  {
   "cell_type": "code",
   "execution_count": 7,
   "metadata": {},
   "outputs": [],
   "source": [
    "X_train = old_full_pipeline.fit_transform(X_train)\n",
    "X_test = old_full_pipeline.transform(X_test)\n",
    "X_val = old_full_pipeline.transform(X_val)"
   ]
  },
  {
   "cell_type": "code",
   "execution_count": 8,
   "metadata": {},
   "outputs": [],
   "source": [
    "# Encoding target\n",
    "encod = LabelEncoder()\n",
    "y_train = encod.fit_transform(y_train)\n",
    "y_test = encod.transform(y_test)"
   ]
  },
  {
   "cell_type": "markdown",
   "metadata": {},
   "source": [
    "# Modeling"
   ]
  },
  {
   "cell_type": "code",
   "execution_count": 9,
   "metadata": {},
   "outputs": [],
   "source": [
    "# Modeling dilakukan dengan model sebagai berikut :\n",
    "lr = LogisticRegression()\n",
    "kn = KNeighborsClassifier(n_neighbors=3)\n",
    "dc = DecisionTreeClassifier(max_depth=2)\n",
    "rf = RandomForestClassifier(n_estimators=18)\n",
    "nb = GaussianNB()\n",
    "lsvm = SVC()"
   ]
  },
  {
   "cell_type": "markdown",
   "metadata": {},
   "source": [
    "# Evaluasi Accuracy Score Overfit/Underfit/Goodfit"
   ]
  },
  {
   "cell_type": "markdown",
   "metadata": {},
   "source": [
    "- Logistic Regression"
   ]
  },
  {
   "cell_type": "code",
   "execution_count": 26,
   "metadata": {},
   "outputs": [
    {
     "name": "stdout",
     "output_type": "stream",
     "text": [
      "Wall time: 538 ms\n",
      "lr accuracy score for train: 0.900: test: 0.899\n"
     ]
    }
   ],
   "source": [
    "# lr\n",
    "# waktu yang dibutuhkan dan hasil training dan test\n",
    "t_start = time.process_time()\n",
    "%time lr.fit(X_train, y_train)\n",
    "train_score_predic_lr = lr.predict(X_train)\n",
    "test_score_predic_lr = lr.predict(X_test)\n",
    "print('lr accuracy score for train: %.3f: test: %.3f' % (\n",
    "        accuracy_score(y_train, train_score_predic_lr),\n",
    "        accuracy_score(y_test, test_score_predic_lr)))"
   ]
  },
  {
   "cell_type": "markdown",
   "metadata": {},
   "source": [
    "Model tidak mengalami overfit dan underfit"
   ]
  },
  {
   "cell_type": "markdown",
   "metadata": {},
   "source": [
    "- KNeighbors"
   ]
  },
  {
   "cell_type": "code",
   "execution_count": 27,
   "metadata": {},
   "outputs": [
    {
     "name": "stdout",
     "output_type": "stream",
     "text": [
      "Wall time: 6.99 ms\n",
      "kn accuracy score for train: 0.923: test: 0.884\n"
     ]
    }
   ],
   "source": [
    "# kn\n",
    "# waktu yang dibutuhkan dan hasil training dan test\n",
    "%time kn.fit(X_train, y_train)\n",
    "train_score_predic_kn = kn.predict(X_train)\n",
    "test_score_predic_kn = kn.predict(X_test)\n",
    "print('kn accuracy score for train: %.3f: test: %.3f' % (\n",
    "        accuracy_score(y_train, train_score_predic_kn),\n",
    "        accuracy_score(y_test, test_score_predic_kn)))"
   ]
  },
  {
   "cell_type": "markdown",
   "metadata": {},
   "source": [
    "Model mengalami overfit dimana training jauh lebih besar dari testing"
   ]
  },
  {
   "cell_type": "markdown",
   "metadata": {},
   "source": [
    "- Decision Tree"
   ]
  },
  {
   "cell_type": "code",
   "execution_count": 28,
   "metadata": {},
   "outputs": [
    {
     "name": "stdout",
     "output_type": "stream",
     "text": [
      "Wall time: 106 ms\n",
      "dc accuracy score for train: 0.899: test: 0.899\n"
     ]
    }
   ],
   "source": [
    "# dc\n",
    "# waktu yang dibutuhkan dan hasil training dan test\n",
    "%time dc.fit(X_train, y_train)\n",
    "train_score_predic_dc = dc.predict(X_train)\n",
    "test_score_predic_dc = dc.predict(X_test)\n",
    "print('dc accuracy score for train: %.3f: test: %.3f' % (\n",
    "        accuracy_score(y_train, train_score_predic_dc),\n",
    "        accuracy_score(y_test, test_score_predic_dc)))"
   ]
  },
  {
   "cell_type": "markdown",
   "metadata": {},
   "source": [
    "Model tidak mengalami overfit dan underfit"
   ]
  },
  {
   "cell_type": "markdown",
   "metadata": {},
   "source": [
    "- Random Forest"
   ]
  },
  {
   "cell_type": "code",
   "execution_count": 29,
   "metadata": {},
   "outputs": [
    {
     "name": "stdout",
     "output_type": "stream",
     "text": [
      "Wall time: 507 ms\n",
      "rf accuracy score for train: 0.989: test: 0.892\n"
     ]
    }
   ],
   "source": [
    "# rf\n",
    "# waktu yang dibutuhkan dan hasil training dan test\n",
    "%time rf.fit(X_train, y_train)\n",
    "train_score_predic_rf = rf.predict(X_train)\n",
    "test_score_predic_rf = rf.predict(X_test)\n",
    "print('rf accuracy score for train: %.3f: test: %.3f' % (\n",
    "        accuracy_score(y_train, train_score_predic_rf),\n",
    "        accuracy_score(y_test, test_score_predic_rf)))"
   ]
  },
  {
   "cell_type": "markdown",
   "metadata": {},
   "source": [
    "Model mengalami overfit dimana train lebih besar dari test"
   ]
  },
  {
   "cell_type": "markdown",
   "metadata": {},
   "source": [
    "- Naive Bayes Gaussian"
   ]
  },
  {
   "cell_type": "code",
   "execution_count": 30,
   "metadata": {},
   "outputs": [
    {
     "name": "stdout",
     "output_type": "stream",
     "text": [
      "Wall time: 50 ms\n",
      "nb accuracy score for train: 0.801: test: 0.803\n"
     ]
    }
   ],
   "source": [
    "# nb\n",
    "# waktu yang dibutuhkan dan hasil training dan test\n",
    "%time nb.fit(X_train, y_train)\n",
    "train_score_predic_nb = nb.predict(X_train)\n",
    "test_score_predic_nb = nb.predict(X_test)\n",
    "print('nb accuracy score for train: %.3f: test: %.3f' % (\n",
    "        accuracy_score(y_train, train_score_predic_nb),\n",
    "        accuracy_score(y_test, test_score_predic_nb)))"
   ]
  },
  {
   "cell_type": "markdown",
   "metadata": {},
   "source": [
    "Model tidak mengalami overfit"
   ]
  },
  {
   "cell_type": "markdown",
   "metadata": {},
   "source": [
    "- SVM"
   ]
  },
  {
   "cell_type": "code",
   "execution_count": 31,
   "metadata": {},
   "outputs": [
    {
     "name": "stdout",
     "output_type": "stream",
     "text": [
      "Wall time: 1min 1s\n",
      "lsvm accuracy score for train: 0.904: test: 0.899\n"
     ]
    }
   ],
   "source": [
    "# lsvm\n",
    "# waktu yang dibutuhkan dan hasil training dan test\n",
    "%time lsvm.fit(X_train, y_train)\n",
    "train_score_predic_lsvm = lsvm.predict(X_train)\n",
    "test_score_predic_lsvm = lsvm.predict(X_test)\n",
    "print('lsvm accuracy score for train: %.3f: test: %.3f' % (\n",
    "        accuracy_score(y_train, train_score_predic_lsvm),\n",
    "        accuracy_score(y_test, test_score_predic_lsvm)))"
   ]
  },
  {
   "cell_type": "markdown",
   "metadata": {},
   "source": [
    "Model tidak mengalami overfit"
   ]
  },
  {
   "cell_type": "markdown",
   "metadata": {},
   "source": [
    "# Other Algorithm"
   ]
  },
  {
   "cell_type": "markdown",
   "metadata": {},
   "source": [
    "- Gradient Boosting"
   ]
  },
  {
   "cell_type": "code",
   "execution_count": 32,
   "metadata": {},
   "outputs": [
    {
     "name": "stdout",
     "output_type": "stream",
     "text": [
      "Wall time: 4.53 s\n",
      "gb accuracy score for train: 0.905: test: 0.900\n"
     ]
    }
   ],
   "source": [
    "# Gradient bossting\n",
    "# waktu yang dibutuhkan dan hasil training dan test\n",
    "from sklearn.ensemble import GradientBoostingClassifier\n",
    "gb = GradientBoostingClassifier()\n",
    "# gb\n",
    "%time gb.fit(X_train, y_train)\n",
    "train_score_predic_gb = gb.predict(X_train)\n",
    "test_score_predic_gb = gb.predict(X_test)\n",
    "print('gb accuracy score for train: %.3f: test: %.3f' % (\n",
    "        accuracy_score(y_train, train_score_predic_gb),\n",
    "        accuracy_score(y_test, test_score_predic_gb)))"
   ]
  },
  {
   "cell_type": "markdown",
   "metadata": {},
   "source": [
    "Model tidak mengalami overfit"
   ]
  },
  {
   "cell_type": "markdown",
   "metadata": {},
   "source": [
    "# Cross Validation"
   ]
  },
  {
   "cell_type": "code",
   "execution_count": 33,
   "metadata": {},
   "outputs": [],
   "source": [
    "# Logistic Regression\n",
    "log_reg = LogisticRegression()\n",
    "log_scores = cross_val_score(log_reg, X_train, y_train, cv=10)\n",
    "log_reg_mean = log_scores.mean()\n",
    "log_reg_std = log_scores.std()\n",
    "\n",
    "# KNearestNeighbors\n",
    "knn_clf = KNeighborsClassifier(n_neighbors=3)\n",
    "knn_scores = cross_val_score(knn_clf, X_train, y_train, cv=10)\n",
    "knn_mean = knn_scores.mean()\n",
    "knn_std = knn_scores.std()\n",
    "\n",
    "\n",
    "# Decision Tree\n",
    "tree_clf = DecisionTreeClassifier(max_depth=2)\n",
    "tree_scores = cross_val_score(tree_clf, X_train, y_train, cv=10)\n",
    "tree_mean = tree_scores.mean()\n",
    "tree_std = tree_scores.std()\n",
    "\n",
    "\n",
    "# Random Forest Classifier\n",
    "rand_clf = RandomForestClassifier(n_estimators=18)\n",
    "rand_scores = cross_val_score(rand_clf, X_train, y_train, cv=10)\n",
    "rand_mean = rand_scores.mean()\n",
    "rand_std = rand_scores.std()\n",
    "\n",
    "# Naives Bayes\n",
    "nav_clf = GaussianNB()\n",
    "nav_scores = cross_val_score(nav_clf, X_train, y_train, cv=10)\n",
    "nav_mean = nav_scores.mean()\n",
    "nav_std = nav_scores.std()\n",
    "\n",
    "# SVM\n",
    "svc_clf = SVC()\n",
    "svc_scores = cross_val_score(svc_clf, X_train, y_train, cv=10)\n",
    "svc_mean = svc_scores.mean()\n",
    "svc_std = svc_scores.std()\n",
    "\n",
    "# gb\n",
    "gb_clf = GradientBoostingClassifier()\n",
    "gb_scores = cross_val_score(gb_clf, X_train, y_train, cv=10)\n",
    "gb_mean = gb_scores.mean()\n",
    "gb_std = gb_scores.std()\n",
    "\n",
    "\n",
    "\n",
    "# Membuat dataframe untuk hasil cross validation\n",
    "d = {'Classifiers': ['Logistic Reg.', 'KNN', 'Dec Tree', 'Rand FC', 'Naives Bayes', 'SVM', 'Gboost'], \n",
    "    'Crossval Mean Scores': [log_reg_mean, knn_mean, tree_mean, rand_mean, nav_mean, svc_mean, gb_mean],\n",
    "    'Crossval Std Scores': [log_reg_std, knn_std, tree_std, rand_std, nav_std, svc_std, gb_std]}\n",
    "\n",
    "result_df = pd.DataFrame(data=d)\n",
    "# estimasi waktu yg dibutuhkan 10m"
   ]
  },
  {
   "cell_type": "code",
   "execution_count": 34,
   "metadata": {},
   "outputs": [
    {
     "data": {
      "text/html": [
       "<div>\n",
       "<style scoped>\n",
       "    .dataframe tbody tr th:only-of-type {\n",
       "        vertical-align: middle;\n",
       "    }\n",
       "\n",
       "    .dataframe tbody tr th {\n",
       "        vertical-align: top;\n",
       "    }\n",
       "\n",
       "    .dataframe thead th {\n",
       "        text-align: right;\n",
       "    }\n",
       "</style>\n",
       "<table border=\"1\" class=\"dataframe\">\n",
       "  <thead>\n",
       "    <tr style=\"text-align: right;\">\n",
       "      <th></th>\n",
       "      <th>Classifiers</th>\n",
       "      <th>Crossval Mean Scores</th>\n",
       "      <th>Crossval Std Scores</th>\n",
       "    </tr>\n",
       "  </thead>\n",
       "  <tbody>\n",
       "    <tr>\n",
       "      <th>6</th>\n",
       "      <td>Gboost</td>\n",
       "      <td>0.900143</td>\n",
       "      <td>0.004194</td>\n",
       "    </tr>\n",
       "    <tr>\n",
       "      <th>0</th>\n",
       "      <td>Logistic Reg.</td>\n",
       "      <td>0.900027</td>\n",
       "      <td>0.002974</td>\n",
       "    </tr>\n",
       "    <tr>\n",
       "      <th>2</th>\n",
       "      <td>Dec Tree</td>\n",
       "      <td>0.899102</td>\n",
       "      <td>0.002820</td>\n",
       "    </tr>\n",
       "    <tr>\n",
       "      <th>5</th>\n",
       "      <td>SVM</td>\n",
       "      <td>0.898986</td>\n",
       "      <td>0.003140</td>\n",
       "    </tr>\n",
       "    <tr>\n",
       "      <th>3</th>\n",
       "      <td>Rand FC</td>\n",
       "      <td>0.890007</td>\n",
       "      <td>0.004930</td>\n",
       "    </tr>\n",
       "    <tr>\n",
       "      <th>1</th>\n",
       "      <td>KNN</td>\n",
       "      <td>0.882530</td>\n",
       "      <td>0.004403</td>\n",
       "    </tr>\n",
       "    <tr>\n",
       "      <th>4</th>\n",
       "      <td>Naives Bayes</td>\n",
       "      <td>0.805759</td>\n",
       "      <td>0.016112</td>\n",
       "    </tr>\n",
       "  </tbody>\n",
       "</table>\n",
       "</div>"
      ],
      "text/plain": [
       "     Classifiers  Crossval Mean Scores  Crossval Std Scores\n",
       "6         Gboost              0.900143             0.004194\n",
       "0  Logistic Reg.              0.900027             0.002974\n",
       "2       Dec Tree              0.899102             0.002820\n",
       "5            SVM              0.898986             0.003140\n",
       "3        Rand FC              0.890007             0.004930\n",
       "1            KNN              0.882530             0.004403\n",
       "4   Naives Bayes              0.805759             0.016112"
      ]
     },
     "execution_count": 34,
     "metadata": {},
     "output_type": "execute_result"
    }
   ],
   "source": [
    "result_df = result_df.sort_values(by=['Crossval Mean Scores', 'Crossval Std Scores'], ascending=False)\n",
    "result_df"
   ]
  },
  {
   "cell_type": "markdown",
   "metadata": {},
   "source": [
    "Model evaluasi crossval yang terbaik ialah Gboost namun jika kita mengacu pada std model yang terbaik ialah decision tree"
   ]
  },
  {
   "cell_type": "markdown",
   "metadata": {},
   "source": [
    "# Evaluasi Confussion Matrix"
   ]
  },
  {
   "cell_type": "markdown",
   "metadata": {},
   "source": [
    "Confusion matrix adalah alat untuk meringkas kinerja algoritma klasifikasi. Confusion matrix akan memberikan gambaran yang jelas tentang kinerja model klasifikasi dan jenis kesalahan yang dihasilkan oleh model tersebut. Ini memberi kita ringkasan prediksi yang benar dan salah yang dirinci oleh setiap kategori. Ringkasan disajikan dalam bentuk tabel.\n",
    "\n",
    "Empat jenis hasil yang mungkin saat mengevaluasi kinerja model klasifikasi. Keempat hasil ini dijelaskan di bawah ini: -\n",
    "\n",
    "True Positives (TP) – True Positives terjadi ketika kita memprediksi sebuah observasi milik kelas tertentu dan observasi sebenarnya milik kelas itu.\n",
    "\n",
    "True Negatives (TN) – True Negatives terjadi ketika kita memprediksi sebuah observasi bukan milik kelas tertentu dan observasi sebenarnya bukan milik kelas itu.\n",
    "\n",
    "False Positive (FP) – Positif Palsu terjadi ketika kita memprediksi suatu pengamatan termasuk dalam kelas tertentu tetapi pengamatan itu sebenarnya bukan milik kelas itu. Jenis kesalahan ini disebut kesalahan Tipe I.\n",
    "\n",
    "False Negatives (FN) – False Negatives terjadi ketika kita memprediksi sebuah observasi bukan milik kelas tertentu tetapi observasi sebenarnya milik kelas itu. Ini adalah kesalahan yang sangat serius dan disebut kesalahan Tipe II."
   ]
  },
  {
   "cell_type": "markdown",
   "metadata": {},
   "source": [
    "- Logistic Regression"
   ]
  },
  {
   "cell_type": "code",
   "execution_count": 35,
   "metadata": {},
   "outputs": [
    {
     "name": "stdout",
     "output_type": "stream",
     "text": [
      "Confusion matrix\n",
      "\n",
      " [[10800   169]\n",
      " [ 1079   309]]\n",
      "\n",
      "True Positives(TP) =  10800\n",
      "\n",
      "True Negatives(TN) =  309\n",
      "\n",
      "False Positives(FP) =  169\n",
      "\n",
      "False Negatives(FN) =  1079\n"
     ]
    }
   ],
   "source": [
    "logmodel = LogisticRegression()\n",
    "logmodel.fit(X_train, y_train)\n",
    "logpredict = logmodel.predict(X_test)\n",
    "cm_logmodel = confusion_matrix(y_test, logpredict)\n",
    "\n",
    "print('Confusion matrix\\n\\n', cm_logmodel)\n",
    "print('\\nTrue Positives(TP) = ', cm_logmodel[0,0])\n",
    "print('\\nTrue Negatives(TN) = ', cm_logmodel[1,1])\n",
    "print('\\nFalse Positives(FP) = ', cm_logmodel[0,1])\n",
    "print('\\nFalse Negatives(FN) = ', cm_logmodel[1,0])"
   ]
  },
  {
   "cell_type": "markdown",
   "metadata": {},
   "source": [
    "- Confusion Matrix menunjukkan 10800 + 309 = 11109 prediksi yang benar dan 169 + 1079 = 1248 prediksi yang salah.\n",
    "\n",
    "- Dalam hal ini, kami memiliki\n",
    "\n",
    "- TP (Positif Aktual: 1 dan Prediksi Positif: 1) - 10800\n",
    "- TN (Negatif Aktual:0 dan Prediksi Negatif:0) - 309\n",
    "- FP (Negatif Aktual:0 tetapi Prediksi Positif:1) - 169 (Kesalahan Tipe I)\n",
    "- FN (Positif Aktual: 1 tetapi Prediksi Negatif: 0) - 1079 (Kesalahan Tipe II)"
   ]
  },
  {
   "cell_type": "markdown",
   "metadata": {},
   "source": [
    "- KNeighborsClassifier"
   ]
  },
  {
   "cell_type": "code",
   "execution_count": 36,
   "metadata": {},
   "outputs": [
    {
     "name": "stdout",
     "output_type": "stream",
     "text": [
      "Confusion matrix\n",
      "\n",
      " [[10498   471]\n",
      " [  960   428]]\n",
      "\n",
      "True Positives(TP) =  10498\n",
      "\n",
      "True Negatives(TN) =  428\n",
      "\n",
      "False Positives(FP) =  471\n",
      "\n",
      "False Negatives(FN) =  960\n"
     ]
    }
   ],
   "source": [
    "knn = KNeighborsClassifier(n_neighbors=3)\n",
    "knn.fit(X_train, y_train)\n",
    "knnpred = knn.predict(X_test)\n",
    "cm_knn = confusion_matrix(y_test, knnpred)\n",
    "\n",
    "print('Confusion matrix\\n\\n', cm_knn)\n",
    "print('\\nTrue Positives(TP) = ', cm_knn[0,0])\n",
    "print('\\nTrue Negatives(TN) = ', cm_knn[1,1])\n",
    "print('\\nFalse Positives(FP) = ', cm_knn[0,1])\n",
    "print('\\nFalse Negatives(FN) = ', cm_knn[1,0])"
   ]
  },
  {
   "cell_type": "markdown",
   "metadata": {},
   "source": [
    "- Confusion Matrix menunjukkan 10791 + 311 = 11102 prediksi yang benar dan 178 + 1077 = 1255 prediksi yang salah.\n",
    "\n",
    "- Dalam hal ini, kami memiliki\n",
    "\n",
    "- TP (Positif Aktual: 1 dan Prediksi Positif: 1) - 10791\n",
    "- TN (Negatif Aktual:0 dan Prediksi Negatif:0) - 311\n",
    "- FP (Negatif Aktual:0 tetapi Prediksi Positif:1) - 178 (Kesalahan Tipe I)\n",
    "- FN (Positif Aktual: 1 tetapi Prediksi Negatif: 0) - 1077 (Kesalahan Tipe II)"
   ]
  },
  {
   "cell_type": "markdown",
   "metadata": {},
   "source": [
    "- Decision Tree"
   ]
  },
  {
   "cell_type": "code",
   "execution_count": 37,
   "metadata": {},
   "outputs": [
    {
     "name": "stdout",
     "output_type": "stream",
     "text": [
      "Confusion matrix\n",
      "\n",
      " [[10848   121]\n",
      " [ 1131   257]]\n",
      "\n",
      "True Positives(TP) =  10848\n",
      "\n",
      "True Negatives(TN) =  257\n",
      "\n",
      "False Positives(FP) =  121\n",
      "\n",
      "False Negatives(FN) =  1131\n"
     ]
    }
   ],
   "source": [
    "dtree = DecisionTreeClassifier(max_depth=2)\n",
    "dtree.fit(X_train, y_train)\n",
    "dtreepred = dtree.predict(X_test)\n",
    "cm_dt = confusion_matrix(y_test, dtreepred)\n",
    "\n",
    "print('Confusion matrix\\n\\n', cm_dt)\n",
    "print('\\nTrue Positives(TP) = ', cm_dt[0,0])\n",
    "print('\\nTrue Negatives(TN) = ', cm_dt[1,1])\n",
    "print('\\nFalse Positives(FP) = ', cm_dt[0,1])\n",
    "print('\\nFalse Negatives(FN) = ', cm_dt[1,0])"
   ]
  },
  {
   "cell_type": "markdown",
   "metadata": {},
   "source": [
    "- Confusion Matrix menunjukkan 10848 + 257 = 11105 prediksi yang benar dan 121 + 1131 = 1252 prediksi yang salah.\n",
    "\n",
    "- Dalam hal ini, kami memiliki\n",
    "\n",
    "- TP (Positif Aktual: 1 dan Prediksi Positif: 1) - 10848\n",
    "- TN (Negatif Aktual:0 dan Prediksi Negatif:0) - 257\n",
    "- FP (Negatif Aktual:0 tetapi Prediksi Positif:1) - 121 (Kesalahan Tipe I)\n",
    "- FN (Positif Aktual: 1 tetapi Prediksi Negatif: 0) - 1131 (Kesalahan Tipe II)"
   ]
  },
  {
   "cell_type": "markdown",
   "metadata": {},
   "source": [
    "- Random Forest"
   ]
  },
  {
   "cell_type": "code",
   "execution_count": 38,
   "metadata": {},
   "outputs": [
    {
     "name": "stdout",
     "output_type": "stream",
     "text": [
      "Confusion matrix\n",
      "\n",
      " [[10643   326]\n",
      " [ 1024   364]]\n",
      "\n",
      "True Positives(TP) =  10643\n",
      "\n",
      "True Negatives(TN) =  364\n",
      "\n",
      "False Positives(FP) =  326\n",
      "\n",
      "False Negatives(FN) =  1024\n"
     ]
    }
   ],
   "source": [
    "rfc = RandomForestClassifier(n_estimators = 18)\n",
    "rfc.fit(X_train, y_train)\n",
    "rfcpred = rfc.predict(X_test)\n",
    "cm_rf = confusion_matrix(y_test, rfcpred)\n",
    "\n",
    "print('Confusion matrix\\n\\n', cm_rf)\n",
    "print('\\nTrue Positives(TP) = ', cm_rf[0,0])\n",
    "print('\\nTrue Negatives(TN) = ', cm_rf[1,1])\n",
    "print('\\nFalse Positives(FP) = ', cm_rf[0,1])\n",
    "print('\\nFalse Negatives(FN) = ', cm_rf[1,0])"
   ]
  },
  {
   "cell_type": "markdown",
   "metadata": {},
   "source": [
    "- Confusion Matrix menunjukkan 10660 + 374 = 11034 prediksi yang benar dan 309 + 1014 = 1323 prediksi yang salah.\n",
    "\n",
    "- Dalam hal ini, kami memiliki\n",
    "\n",
    "- TP (Positif Aktual: 1 dan Prediksi Positif: 1) - 10660\n",
    "- TN (Negatif Aktual:0 dan Prediksi Negatif:0) - 374\n",
    "- FP (Negatif Aktual:0 tetapi Prediksi Positif:1) - 309 (Kesalahan Tipe I)\n",
    "- FN (Positif Aktual: 1 tetapi Prediksi Negatif: 0) - 1014 (Kesalahan Tipe II)"
   ]
  },
  {
   "cell_type": "markdown",
   "metadata": {},
   "source": [
    "- Naive Bayes Gaussian"
   ]
  },
  {
   "cell_type": "code",
   "execution_count": 39,
   "metadata": {},
   "outputs": [
    {
     "name": "stdout",
     "output_type": "stream",
     "text": [
      "Confusion matrix\n",
      "\n",
      " [[9084 1885]\n",
      " [ 553  835]]\n",
      "\n",
      "True Positives(TP) =  9084\n",
      "\n",
      "True Negatives(TN) =  835\n",
      "\n",
      "False Positives(FP) =  1885\n",
      "\n",
      "False Negatives(FN) =  553\n"
     ]
    }
   ],
   "source": [
    "gaussiannb= GaussianNB()\n",
    "gaussiannb.fit(X_train, y_train)\n",
    "gaussiannbpred = gaussiannb.predict(X_test)\n",
    "probs = gaussiannb.predict(X_test)\n",
    "cm_nb = confusion_matrix(y_test, gaussiannbpred)\n",
    "\n",
    "print('Confusion matrix\\n\\n', cm_nb)\n",
    "print('\\nTrue Positives(TP) = ', cm_nb[0,0])\n",
    "print('\\nTrue Negatives(TN) = ', cm_nb[1,1])\n",
    "print('\\nFalse Positives(FP) = ', cm_nb[0,1])\n",
    "print('\\nFalse Negatives(FN) = ', cm_nb[1,0])"
   ]
  },
  {
   "cell_type": "markdown",
   "metadata": {},
   "source": [
    "- Confusion Matrix menunjukkan 9084 + 835 = 9919 prediksi yang benar dan 1885 + 553 = 2438 prediksi yang salah.\n",
    "\n",
    "- Dalam hal ini, kami memiliki\n",
    "\n",
    "- TP (Positif Aktual: 1 dan Prediksi Positif: 1) - 9084\n",
    "- TN (Negatif Aktual:0 dan Prediksi Negatif:0) - 835\n",
    "- FP (Negatif Sebenarnya: 0 tetapi Prediksi Positif: 1) - 1885 (Kesalahan Tipe I)\n",
    "- FN (Positif Aktual: 1 tetapi Prediksi Negatif: 0) - 553 (Kesalahan Tipe II)"
   ]
  },
  {
   "cell_type": "markdown",
   "metadata": {},
   "source": [
    "- SVM"
   ]
  },
  {
   "cell_type": "code",
   "execution_count": 40,
   "metadata": {},
   "outputs": [
    {
     "name": "stdout",
     "output_type": "stream",
     "text": [
      "Confusion matrix\n",
      "\n",
      " [[10802   167]\n",
      " [ 1076   312]]\n",
      "\n",
      "True Positives(TP) =  10802\n",
      "\n",
      "True Negatives(TN) =  312\n",
      "\n",
      "False Positives(FP) =  167\n",
      "\n",
      "False Negatives(FN) =  1076\n"
     ]
    }
   ],
   "source": [
    "svc= SVC()\n",
    "svc.fit(X_train, y_train)\n",
    "svcpred = svc.predict(X_test)\n",
    "cm_svm = confusion_matrix(y_test, svcpred)\n",
    "\n",
    "print('Confusion matrix\\n\\n', cm_svm)\n",
    "print('\\nTrue Positives(TP) = ', cm_svm[0,0])\n",
    "print('\\nTrue Negatives(TN) = ', cm_svm[1,1])\n",
    "print('\\nFalse Positives(FP) = ', cm_svm[0,1])\n",
    "print('\\nFalse Negatives(FN) = ', cm_svm[1,0])"
   ]
  },
  {
   "cell_type": "markdown",
   "metadata": {},
   "source": [
    "- Confusion Matrix menunjukkan 10802 + 312 = 11114 prediksi yang benar dan 167 + 1076 = 1243 prediksi yang salah.\n",
    "\n",
    "- Dalam hal ini, kami memiliki\n",
    "\n",
    "- TP (Positif Aktual: 1 dan Prediksi Positif: 1) - 10802\n",
    "- TN (Negatif Aktual:0 dan Prediksi Negatif:0) - 312\n",
    "- FP (Negatif Sebenarnya: 0 tetapi Prediksi Positif: 1) - 167 (Kesalahan Tipe I)\n",
    "- FN (Positif Aktual: 1 tetapi Prediksi Negatif: 0) - 1076 (Kesalahan Tipe II)"
   ]
  },
  {
   "cell_type": "markdown",
   "metadata": {},
   "source": [
    "- Gradient Boosting"
   ]
  },
  {
   "cell_type": "code",
   "execution_count": 41,
   "metadata": {},
   "outputs": [
    {
     "name": "stdout",
     "output_type": "stream",
     "text": [
      "Confusion matrix\n",
      "\n",
      " [[10788   181]\n",
      " [ 1061   327]]\n",
      "\n",
      "True Positives(TP) =  10788\n",
      "\n",
      "True Negatives(TN) =  327\n",
      "\n",
      "False Positives(FP) =  181\n",
      "\n",
      "False Negatives(FN) =  1061\n"
     ]
    }
   ],
   "source": [
    "gboost = GradientBoostingClassifier()\n",
    "gboost.fit(X_train, y_train)\n",
    "gbpred = gboost.predict(X_test)\n",
    "cm_gb = confusion_matrix(y_test, gbpred)\n",
    "\n",
    "print('Confusion matrix\\n\\n', cm_gb)\n",
    "print('\\nTrue Positives(TP) = ', cm_gb[0,0])\n",
    "print('\\nTrue Negatives(TN) = ', cm_gb[1,1])\n",
    "print('\\nFalse Positives(FP) = ', cm_gb[0,1])\n",
    "print('\\nFalse Negatives(FN) = ', cm_gb[1,0])"
   ]
  },
  {
   "cell_type": "markdown",
   "metadata": {},
   "source": [
    "- Confusion Matrix menunjukkan 10793 + 323 = 11116 prediksi yang benar dan 176 + 1065 = 1241 prediksi yang salah.\n",
    "\n",
    "- Dalam hal ini, kami memiliki\n",
    "\n",
    "- TP (Positif Aktual: 1 dan Prediksi Positif: 1) - 10793\n",
    "- TN (Negatif Aktual:0 dan Prediksi Negatif:0) - 323\n",
    "- FP (Negatif Aktual:0 tetapi Prediksi Positif:1) - 176 (Kesalahan Tipe I)\n",
    "- FN (Positif Aktual: 1 tetapi Prediksi Negatif: 0) - 1065 (Kesalahan Tipe II)"
   ]
  },
  {
   "cell_type": "markdown",
   "metadata": {},
   "source": [
    "# Evaluasi Classification Report"
   ]
  },
  {
   "cell_type": "markdown",
   "metadata": {},
   "source": [
    "Classification report adalah cara lain untuk mengevaluasi kinerja model klasifikasi. Ini menampilkan presisi, recall, f1 dan support untuk model."
   ]
  },
  {
   "cell_type": "markdown",
   "metadata": {},
   "source": [
    "Presisi dapat didefinisikan sebagai persentase hasil positif yang diprediksi dengan benar dari semua hasil positif yang diprediksi. Ini dapat diberikan sebagai rasio positif sejati (TP) dengan jumlah positif benar dan salah (TP + FP).\n",
    "\n",
    "Jadi, Precision mengidentifikasi proporsi hasil positif yang diprediksi dengan benar. Ia lebih mementingkan kelas positif daripada kelas negatif.\n",
    "\n",
    "Secara matematis, presisi dapat didefinisikan sebagai rasio TP terhadap (TP + FP)."
   ]
  },
  {
   "cell_type": "markdown",
   "metadata": {},
   "source": [
    "Recall dapat didefinisikan sebagai persentase hasil positif yang diprediksi dengan benar dari semua hasil positif yang sebenarnya. Ini dapat diberikan sebagai rasio positif sejati (TP) dengan jumlah positif benar dan negatif palsu (TP + FN). Ingat juga disebut Sensitivitas.\n",
    "\n",
    "Recall mengidentifikasi proporsi positif aktual yang diprediksi dengan benar.\n",
    "\n",
    "Secara matematis, recall dapat diberikan sebagai rasio TP terhadap (TP + FN)."
   ]
  },
  {
   "cell_type": "markdown",
   "metadata": {},
   "source": [
    "F1-score adalah rata-rata harmonik tertimbang dari presisi dan recall. Skor f1 terbaik yang mungkin adalah 1,0 dan yang terburuk adalah 0,0. F1-score adalah rata-rata harmonik presisi dan recall. Jadi, f1-score selalu lebih rendah dari ukuran akurasi karena mereka menanamkan presisi dan recall ke dalam perhitungannya. Rata-rata tertimbang skor F1 harus digunakan untuk membandingkan model pengklasifikasi, bukan akurasi global."
   ]
  },
  {
   "cell_type": "markdown",
   "metadata": {},
   "source": [
    "Support adalah jumlah aktual kemunculan kelas dalam kumpulan data kami."
   ]
  },
  {
   "cell_type": "markdown",
   "metadata": {},
   "source": [
    "- Linier Regression"
   ]
  },
  {
   "cell_type": "code",
   "execution_count": 42,
   "metadata": {},
   "outputs": [
    {
     "name": "stdout",
     "output_type": "stream",
     "text": [
      "              precision    recall  f1-score   support\n",
      "\n",
      "           0       0.91      0.98      0.95     10969\n",
      "           1       0.65      0.22      0.33      1388\n",
      "\n",
      "    accuracy                           0.90     12357\n",
      "   macro avg       0.78      0.60      0.64     12357\n",
      "weighted avg       0.88      0.90      0.88     12357\n",
      "\n"
     ]
    }
   ],
   "source": [
    "print(classification_report(y_test, logpredict))"
   ]
  },
  {
   "cell_type": "markdown",
   "metadata": {},
   "source": [
    "- KNeighbors"
   ]
  },
  {
   "cell_type": "code",
   "execution_count": 43,
   "metadata": {},
   "outputs": [
    {
     "name": "stdout",
     "output_type": "stream",
     "text": [
      "              precision    recall  f1-score   support\n",
      "\n",
      "           0       0.92      0.96      0.94     10969\n",
      "           1       0.48      0.31      0.37      1388\n",
      "\n",
      "    accuracy                           0.88     12357\n",
      "   macro avg       0.70      0.63      0.66     12357\n",
      "weighted avg       0.87      0.88      0.87     12357\n",
      "\n"
     ]
    }
   ],
   "source": [
    "print(classification_report(y_test, knnpred))"
   ]
  },
  {
   "cell_type": "markdown",
   "metadata": {},
   "source": [
    "- Decision Tree"
   ]
  },
  {
   "cell_type": "code",
   "execution_count": 44,
   "metadata": {},
   "outputs": [
    {
     "name": "stdout",
     "output_type": "stream",
     "text": [
      "              precision    recall  f1-score   support\n",
      "\n",
      "           0       0.91      0.99      0.95     10969\n",
      "           1       0.68      0.19      0.29      1388\n",
      "\n",
      "    accuracy                           0.90     12357\n",
      "   macro avg       0.79      0.59      0.62     12357\n",
      "weighted avg       0.88      0.90      0.87     12357\n",
      "\n"
     ]
    }
   ],
   "source": [
    "print(classification_report(y_test, dtreepred))"
   ]
  },
  {
   "cell_type": "markdown",
   "metadata": {},
   "source": [
    "- Random Forest"
   ]
  },
  {
   "cell_type": "code",
   "execution_count": 45,
   "metadata": {},
   "outputs": [
    {
     "name": "stdout",
     "output_type": "stream",
     "text": [
      "              precision    recall  f1-score   support\n",
      "\n",
      "           0       0.91      0.97      0.94     10969\n",
      "           1       0.53      0.26      0.35      1388\n",
      "\n",
      "    accuracy                           0.89     12357\n",
      "   macro avg       0.72      0.62      0.65     12357\n",
      "weighted avg       0.87      0.89      0.87     12357\n",
      "\n"
     ]
    }
   ],
   "source": [
    "print(classification_report(y_test, rfcpred))"
   ]
  },
  {
   "cell_type": "markdown",
   "metadata": {},
   "source": [
    "- Naive Bayes Gaussian"
   ]
  },
  {
   "cell_type": "code",
   "execution_count": 46,
   "metadata": {},
   "outputs": [
    {
     "name": "stdout",
     "output_type": "stream",
     "text": [
      "              precision    recall  f1-score   support\n",
      "\n",
      "           0       0.94      0.83      0.88     10969\n",
      "           1       0.31      0.60      0.41      1388\n",
      "\n",
      "    accuracy                           0.80     12357\n",
      "   macro avg       0.62      0.71      0.64     12357\n",
      "weighted avg       0.87      0.80      0.83     12357\n",
      "\n"
     ]
    }
   ],
   "source": [
    "print(classification_report(y_test, gaussiannbpred))"
   ]
  },
  {
   "cell_type": "markdown",
   "metadata": {},
   "source": [
    "- SVM"
   ]
  },
  {
   "cell_type": "code",
   "execution_count": 47,
   "metadata": {},
   "outputs": [
    {
     "name": "stdout",
     "output_type": "stream",
     "text": [
      "              precision    recall  f1-score   support\n",
      "\n",
      "           0       0.91      0.98      0.95     10969\n",
      "           1       0.65      0.22      0.33      1388\n",
      "\n",
      "    accuracy                           0.90     12357\n",
      "   macro avg       0.78      0.60      0.64     12357\n",
      "weighted avg       0.88      0.90      0.88     12357\n",
      "\n"
     ]
    }
   ],
   "source": [
    "print(classification_report(y_test, svcpred))"
   ]
  },
  {
   "cell_type": "markdown",
   "metadata": {},
   "source": [
    "- Gradient Boosting"
   ]
  },
  {
   "cell_type": "code",
   "execution_count": 48,
   "metadata": {},
   "outputs": [
    {
     "name": "stdout",
     "output_type": "stream",
     "text": [
      "              precision    recall  f1-score   support\n",
      "\n",
      "           0       0.91      0.98      0.95     10969\n",
      "           1       0.64      0.24      0.34      1388\n",
      "\n",
      "    accuracy                           0.90     12357\n",
      "   macro avg       0.78      0.61      0.65     12357\n",
      "weighted avg       0.88      0.90      0.88     12357\n",
      "\n"
     ]
    }
   ],
   "source": [
    "print(classification_report(y_test, gbpred))"
   ]
  },
  {
   "cell_type": "markdown",
   "metadata": {},
   "source": [
    "# Grid Search Random Forest"
   ]
  },
  {
   "cell_type": "markdown",
   "metadata": {},
   "source": [
    "- Set parameters untuk Grid Search Random Forest :"
   ]
  },
  {
   "cell_type": "code",
   "execution_count": 49,
   "metadata": {},
   "outputs": [],
   "source": [
    "grid_params_rf = [{\n",
    "                'criterion': ['entropy', 'gini'],\n",
    "                'max_depth': [3, 6, 9, 12],\n",
    "                'min_samples_split': [3, 6, 9 , 12],\n",
    "                }]"
   ]
  },
  {
   "cell_type": "code",
   "execution_count": 50,
   "metadata": {},
   "outputs": [
    {
     "name": "stdout",
     "output_type": "stream",
     "text": [
      "Wall time: 1min 9s\n"
     ]
    },
    {
     "data": {
      "text/plain": [
       "GridSearchCV(cv=10, estimator=RandomForestClassifier(n_estimators=18),\n",
       "             param_grid=[{'criterion': ['entropy', 'gini'],\n",
       "                          'max_depth': [3, 6, 9, 12],\n",
       "                          'min_samples_split': [3, 6, 9, 12]}],\n",
       "             return_train_score=True, scoring='accuracy')"
      ]
     },
     "execution_count": 50,
     "metadata": {},
     "output_type": "execute_result"
    }
   ],
   "source": [
    "# GridSearch best params dan score\n",
    "rf = RandomForestClassifier(n_estimators=18)\n",
    "rf_grid = GridSearchCV(rf, grid_params_rf, scoring='accuracy', cv = 10, return_train_score=True)\n",
    "%time rf_grid.fit(X_train, y_train)"
   ]
  },
  {
   "cell_type": "code",
   "execution_count": 51,
   "metadata": {},
   "outputs": [
    {
     "name": "stdout",
     "output_type": "stream",
     "text": [
      "{'criterion': 'entropy', 'max_depth': 9, 'min_samples_split': 12}\n",
      "0.8992948897931047\n"
     ]
    }
   ],
   "source": [
    "print (rf_grid.best_params_)\n",
    "print (rf_grid.best_score_)"
   ]
  },
  {
   "cell_type": "markdown",
   "metadata": {},
   "source": [
    "# Retrain dan Evaluasi Random Forest"
   ]
  },
  {
   "cell_type": "code",
   "execution_count": 52,
   "metadata": {},
   "outputs": [
    {
     "name": "stdout",
     "output_type": "stream",
     "text": [
      "RandomForestClassifier(criterion='entropy', max_depth=9, min_samples_split=12,\n",
      "                       n_estimators=18)\n"
     ]
    }
   ],
   "source": [
    "rf_best = rf_grid.best_estimator_\n",
    "print(rf_best)"
   ]
  },
  {
   "cell_type": "code",
   "execution_count": 53,
   "metadata": {},
   "outputs": [
    {
     "name": "stdout",
     "output_type": "stream",
     "text": [
      "[0 0 0 ... 0 0 0]\n",
      "[0 0 0 ... 0 0 0]\n"
     ]
    }
   ],
   "source": [
    "rf_train_p = rf_best.predict(X_train)\n",
    "rf_test_p = rf_best.predict(X_test)\n",
    "print(rf_train_p)\n",
    "print(rf_test_p)"
   ]
  },
  {
   "cell_type": "code",
   "execution_count": 54,
   "metadata": {},
   "outputs": [
    {
     "name": "stdout",
     "output_type": "stream",
     "text": [
      "rf_hyp accuracy score for train: 0.907: test: 0.899\n"
     ]
    }
   ],
   "source": [
    "print('rf_hyp accuracy score for train: %.3f: test: %.3f' % (\n",
    "        accuracy_score(y_train, rf_train_p),\n",
    "        accuracy_score(y_test, rf_test_p)))"
   ]
  },
  {
   "cell_type": "markdown",
   "metadata": {},
   "source": [
    "- rf accuracy score for train: 0.990: test: 0.893\n",
    "- setelah di tunning rf_hyp accuracy score for train: 0.915: test: 0.900 menghasilkan model yang goodfit"
   ]
  },
  {
   "cell_type": "code",
   "execution_count": 55,
   "metadata": {},
   "outputs": [
    {
     "name": "stdout",
     "output_type": "stream",
     "text": [
      "0.8991407026441631\n",
      "0.0025566497551302563\n"
     ]
    }
   ],
   "source": [
    "rand_clf1 = RandomForestClassifier(criterion = 'gini', max_depth = 12, min_samples_leaf = 25, min_samples_split = 3, n_estimators = 18)\n",
    "rand_scores1 = cross_val_score(rand_clf1, X_train, y_train, cv=10)\n",
    "rand_mean1 = rand_scores1.mean()\n",
    "rand_std1 = rand_scores1.std()\n",
    "print (rand_mean1)\n",
    "print (rand_std1)"
   ]
  },
  {
   "cell_type": "markdown",
   "metadata": {},
   "source": [
    "# Grid Search Decision Tree"
   ]
  },
  {
   "cell_type": "markdown",
   "metadata": {},
   "source": [
    "- Set parameters untuk Grid Search Decision Tree:"
   ]
  },
  {
   "cell_type": "code",
   "execution_count": 10,
   "metadata": {},
   "outputs": [],
   "source": [
    "params = {\n",
    "    'min_samples_split' : np.arange(2,9),\n",
    "    'max_depth' : np.arange(2,7),\n",
    "    'criterion' : ['gini', 'entropy']\n",
    "}"
   ]
  },
  {
   "cell_type": "code",
   "execution_count": 11,
   "metadata": {},
   "outputs": [
    {
     "data": {
      "text/plain": [
       "GridSearchCV(cv=10, estimator=DecisionTreeClassifier(random_state=0),\n",
       "             param_grid={'criterion': ['gini', 'entropy'],\n",
       "                         'max_depth': array([2, 3, 4, 5, 6]),\n",
       "                         'min_samples_split': array([2, 3, 4, 5, 6, 7, 8])},\n",
       "             return_train_score=True, scoring='accuracy')"
      ]
     },
     "execution_count": 11,
     "metadata": {},
     "output_type": "execute_result"
    }
   ],
   "source": [
    "dt = DecisionTreeClassifier(random_state=0)\n",
    "dt_grid = GridSearchCV(dt, params, scoring =\"accuracy\", cv = 10, return_train_score=True)\n",
    "dt_grid.fit(X_train, y_train)"
   ]
  },
  {
   "cell_type": "code",
   "execution_count": 12,
   "metadata": {},
   "outputs": [
    {
     "name": "stdout",
     "output_type": "stream",
     "text": [
      "best score :0.8994875383090962\n",
      "best params :{'criterion': 'entropy', 'max_depth': 5, 'min_samples_split': 2}\n"
     ]
    }
   ],
   "source": [
    "print (f'best score :{dt_grid.best_score_}')\n",
    "print (f'best params :{dt_grid.best_params_}')"
   ]
  },
  {
   "cell_type": "code",
   "execution_count": 13,
   "metadata": {},
   "outputs": [
    {
     "name": "stdout",
     "output_type": "stream",
     "text": [
      "DecisionTreeClassifier(criterion='entropy', max_depth=5, random_state=0)\n"
     ]
    }
   ],
   "source": [
    "dt_best = dt_grid.best_estimator_\n",
    "print(dt_best)"
   ]
  },
  {
   "cell_type": "markdown",
   "metadata": {},
   "source": [
    "# Retrain dan Evaluasi Decision Tree"
   ]
  },
  {
   "cell_type": "code",
   "execution_count": 14,
   "metadata": {},
   "outputs": [
    {
     "name": "stdout",
     "output_type": "stream",
     "text": [
      "[0 0 0 ... 0 0 0]\n",
      "[0 0 0 ... 0 0 0]\n"
     ]
    }
   ],
   "source": [
    "dt_train_p = dt_best.predict(X_train)\n",
    "dt_test_p = dt_best.predict(X_test)\n",
    "print(dt_train_p)\n",
    "print(dt_test_p)"
   ]
  },
  {
   "cell_type": "code",
   "execution_count": 15,
   "metadata": {},
   "outputs": [
    {
     "name": "stdout",
     "output_type": "stream",
     "text": [
      "dt_hyp accuracy score for train: 0.902: test: 0.901\n"
     ]
    }
   ],
   "source": [
    "print('dt_hyp accuracy score for train: %.3f: test: %.3f' % (\n",
    "        accuracy_score(y_train, dt_train_p),\n",
    "        accuracy_score(y_test, dt_test_p)))"
   ]
  },
  {
   "cell_type": "markdown",
   "metadata": {},
   "source": [
    "- dc accuracy score for train: 0.899: test: 0.899 sebelum di hyperparameter tunning dan\n",
    "- setelah di tunning menjadi dt_hyp accuracy score for train: 0.902: test: 0.901"
   ]
  },
  {
   "cell_type": "markdown",
   "metadata": {},
   "source": [
    "# Model Inferance"
   ]
  },
  {
   "cell_type": "code",
   "execution_count": 16,
   "metadata": {},
   "outputs": [
    {
     "name": "stdout",
     "output_type": "stream",
     "text": [
      "[0 0 0 ... 0 0 0]\n",
      "[0 0 0 ... 0 0 0]\n"
     ]
    }
   ],
   "source": [
    "val = dt_grid.predict(X_val)\n",
    "valt = dt_grid.predict(X_test)\n",
    "print (val)\n",
    "print (valt)"
   ]
  },
  {
   "cell_type": "markdown",
   "metadata": {},
   "source": [
    "# Overall Analysis\n",
    "- job yang paling banyak yaitu admin. dan paling sedikit unknown\n",
    "- status perkawinan yang paling banyak yaitu sudah menikah dan tidak diketahui paling sedikit\n",
    "- kontak yang paling banyak dilakukan melalui seluler\n",
    "- default atau yang menggunakan kartu kredit paling banyak itu no, atau tidak ada dan tidak ada satu pun yang menggunakan kartu kredit\n",
    "- orang yang sudah melakukan pinjaman rumah paling banyak\n",
    "- orang yang berhutang itu paling banyak tidak ada\n",
    "- yang berhasil setelah dilakukan nya operasi deposito jangka panjang tidak ada\n",
    "- orang yang ingin melakukan deposito jangka panjang yang paling banyak tidak\n",
    "- Operasi dilakukan paling sering pada bulan may\n",
    "- Operasi dilakukan setiap minggu dan yang paling banyak ialah hari kamis "
   ]
  },
  {
   "cell_type": "markdown",
   "metadata": {},
   "source": [
    "dapat dilakukan strategi untuk menaikkan orang akan deposit jangka panjang ialah meningkatkan operasi tidak hanya pada bulan may saja, namun pada bulan berikutnya dan mencoba beberapa perlakuan khusus terhadap perkerja selain admin, memberikan beberapa edukasi/informasi keuntungan dan kenapa harus melakukan deposito jangka panjang, karena kebanyakkan deposito jangka panjang adalah admin, saya berasumsi admin lebih mengetahui nya."
   ]
  },
  {
   "cell_type": "markdown",
   "metadata": {},
   "source": [
    "- Splitting dilakukan dengan proporsi Train 70 dan test 30\n",
    "- Setelah itu di split lagi dengan proporsi 90 dan val 10\n",
    "- Scalling dan Encoding dilakukan dalam pipeline"
   ]
  },
  {
   "cell_type": "markdown",
   "metadata": {},
   "source": [
    "Modeling yang digunakan :\n",
    "- lr = LogisticRegression\n",
    "- kn = KNeighborsClassifier\n",
    "- dc = DecisionTreeClassifier\n",
    "- rf = RandomForestClassifier\n",
    "- nb = GaussianNB\n",
    "- lsvm = SVC\n",
    "- gb = GradientBoosting"
   ]
  },
  {
   "cell_type": "markdown",
   "metadata": {},
   "source": [
    "- Model yang paling bagus menurut accuracy score ialah gb accuracy score for train: 0.905: test: 0.900\n",
    "- Model yang paling bagus menurut cross validasi ialah Dec Tree\t0.899102\t0.002820\n",
    "- Model yang paling bagus menurut confusion matrix ialah Gradient Boosting menunjukkan 10793 + 323 = 11116 prediksi yang benar dan 176 + 1065 = 1241 prediksi yang salah.\n",
    "- Model menurut evaluasi f1 score naive bayes, knn, random forest dibawah 90\n",
    "- Model yang paling lama training ialah svm dengan Wall time: 1min 18s\n",
    "- Random Forest accuracy score for train: 0.990: test: 0.893\n",
    "- setelah di tunning rf_hyp accuracy score for train: 0.915: test: 0.900 menghasilkan model yang goodfit\n",
    "- decision tree accuracy score for train: 0.899: test: 0.899 sebelum di hyperparameter tunning dan\n",
    "- setelah di tunning menjadi dt_hyp accuracy score for train: 0.902: test: 0.901"
   ]
  }
 ],
 "metadata": {
  "interpreter": {
   "hash": "88c793281afcf09f762d33d86dc18890ae8ba362b2f8bd9ab42f656765573e2c"
  },
  "kernelspec": {
   "display_name": "Python 3.10.1 64-bit",
   "language": "python",
   "name": "python3"
  },
  "language_info": {
   "codemirror_mode": {
    "name": "ipython",
    "version": 3
   },
   "file_extension": ".py",
   "mimetype": "text/x-python",
   "name": "python",
   "nbconvert_exporter": "python",
   "pygments_lexer": "ipython3",
   "version": "3.10.1"
  },
  "orig_nbformat": 4
 },
 "nbformat": 4,
 "nbformat_minor": 2
}
